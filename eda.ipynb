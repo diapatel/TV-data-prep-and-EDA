{
 "cells": [
  {
   "cell_type": "code",
   "execution_count": 50,
   "id": "be21ea12-b46c-4db8-94ad-2b4eed194bed",
   "metadata": {},
   "outputs": [],
   "source": [
    "import pandas as pd\n",
    "import numpy as np\n",
    "\n",
    "import seaborn as sns\n",
    "import matplotlib.pyplot as plt\n",
    "\n",
    "import warnings\n",
    "warnings.filterwarnings('ignore')"
   ]
  },
  {
   "cell_type": "code",
   "execution_count": 4,
   "id": "93269d91-7a4b-433f-beac-5453ac3fa252",
   "metadata": {},
   "outputs": [
    {
     "data": {
      "text/html": [
       "<div>\n",
       "<style scoped>\n",
       "    .dataframe tbody tr th:only-of-type {\n",
       "        vertical-align: middle;\n",
       "    }\n",
       "\n",
       "    .dataframe tbody tr th {\n",
       "        vertical-align: top;\n",
       "    }\n",
       "\n",
       "    .dataframe thead th {\n",
       "        text-align: right;\n",
       "    }\n",
       "</style>\n",
       "<table border=\"1\" class=\"dataframe\">\n",
       "  <thead>\n",
       "    <tr style=\"text-align: right;\">\n",
       "      <th></th>\n",
       "      <th>brand</th>\n",
       "      <th>tv_type</th>\n",
       "      <th>resolution</th>\n",
       "      <th>resolution_type</th>\n",
       "      <th>x_resolution</th>\n",
       "      <th>y_resolution</th>\n",
       "      <th>screen_size</th>\n",
       "      <th>processor_core</th>\n",
       "      <th>processor_ram</th>\n",
       "      <th>processor_inbuilt_storage</th>\n",
       "      <th>...</th>\n",
       "      <th>hd</th>\n",
       "      <th>has_wifi</th>\n",
       "      <th>has_ethernet</th>\n",
       "      <th>is_smart</th>\n",
       "      <th>is_ultra_slim</th>\n",
       "      <th>viewing_angle</th>\n",
       "      <th>num_hdmi_ports</th>\n",
       "      <th>num_usb_ports</th>\n",
       "      <th>rating</th>\n",
       "      <th>price</th>\n",
       "    </tr>\n",
       "  </thead>\n",
       "  <tbody>\n",
       "    <tr>\n",
       "      <th>0</th>\n",
       "      <td>acer</td>\n",
       "      <td>qled</td>\n",
       "      <td>NaN</td>\n",
       "      <td>missing</td>\n",
       "      <td>1366.0</td>\n",
       "      <td>768.0</td>\n",
       "      <td>32.0</td>\n",
       "      <td>4.0</td>\n",
       "      <td>1.5</td>\n",
       "      <td>16.0</td>\n",
       "      <td>...</td>\n",
       "      <td>HD</td>\n",
       "      <td>1.0</td>\n",
       "      <td>1.0</td>\n",
       "      <td>1.0</td>\n",
       "      <td>1.0</td>\n",
       "      <td>178.0</td>\n",
       "      <td>2.0</td>\n",
       "      <td>2.0</td>\n",
       "      <td>53.0</td>\n",
       "      <td>14999.0</td>\n",
       "    </tr>\n",
       "    <tr>\n",
       "      <th>1</th>\n",
       "      <td>xiaomi</td>\n",
       "      <td>led</td>\n",
       "      <td>Full HD</td>\n",
       "      <td>missing</td>\n",
       "      <td>1920.0</td>\n",
       "      <td>1080.0</td>\n",
       "      <td>43.0</td>\n",
       "      <td>NaN</td>\n",
       "      <td>1.0</td>\n",
       "      <td>8.0</td>\n",
       "      <td>...</td>\n",
       "      <td>Full HD</td>\n",
       "      <td>1.0</td>\n",
       "      <td>1.0</td>\n",
       "      <td>1.0</td>\n",
       "      <td>0.0</td>\n",
       "      <td>178.0</td>\n",
       "      <td>2.0</td>\n",
       "      <td>2.0</td>\n",
       "      <td>53.0</td>\n",
       "      <td>9999.0</td>\n",
       "    </tr>\n",
       "    <tr>\n",
       "      <th>2</th>\n",
       "      <td>lg</td>\n",
       "      <td>led</td>\n",
       "      <td>4K Resolution</td>\n",
       "      <td>4K Resolution</td>\n",
       "      <td>3840.0</td>\n",
       "      <td>2160.0</td>\n",
       "      <td>43.0</td>\n",
       "      <td>NaN</td>\n",
       "      <td>NaN</td>\n",
       "      <td>NaN</td>\n",
       "      <td>...</td>\n",
       "      <td>Ultra HD</td>\n",
       "      <td>1.0</td>\n",
       "      <td>1.0</td>\n",
       "      <td>1.0</td>\n",
       "      <td>NaN</td>\n",
       "      <td>NaN</td>\n",
       "      <td>3.0</td>\n",
       "      <td>2.0</td>\n",
       "      <td>65.0</td>\n",
       "      <td>31990.0</td>\n",
       "    </tr>\n",
       "    <tr>\n",
       "      <th>3</th>\n",
       "      <td>samsung</td>\n",
       "      <td>led</td>\n",
       "      <td>4K Resolution</td>\n",
       "      <td>4K Resolution</td>\n",
       "      <td>3840.0</td>\n",
       "      <td>2160.0</td>\n",
       "      <td>43.0</td>\n",
       "      <td>NaN</td>\n",
       "      <td>NaN</td>\n",
       "      <td>NaN</td>\n",
       "      <td>...</td>\n",
       "      <td>Ultra HD</td>\n",
       "      <td>1.0</td>\n",
       "      <td>1.0</td>\n",
       "      <td>1.0</td>\n",
       "      <td>0.0</td>\n",
       "      <td>178.0</td>\n",
       "      <td>2.0</td>\n",
       "      <td>1.0</td>\n",
       "      <td>63.0</td>\n",
       "      <td>38900.0</td>\n",
       "    </tr>\n",
       "    <tr>\n",
       "      <th>4</th>\n",
       "      <td>lg</td>\n",
       "      <td>led</td>\n",
       "      <td>NaN</td>\n",
       "      <td>missing</td>\n",
       "      <td>1366.0</td>\n",
       "      <td>768.0</td>\n",
       "      <td>32.0</td>\n",
       "      <td>NaN</td>\n",
       "      <td>NaN</td>\n",
       "      <td>NaN</td>\n",
       "      <td>...</td>\n",
       "      <td>HD</td>\n",
       "      <td>1.0</td>\n",
       "      <td>1.0</td>\n",
       "      <td>1.0</td>\n",
       "      <td>0.0</td>\n",
       "      <td>178.0</td>\n",
       "      <td>3.0</td>\n",
       "      <td>2.0</td>\n",
       "      <td>48.0</td>\n",
       "      <td>16249.0</td>\n",
       "    </tr>\n",
       "  </tbody>\n",
       "</table>\n",
       "<p>5 rows × 22 columns</p>\n",
       "</div>"
      ],
      "text/plain": [
       "     brand tv_type     resolution resolution_type  x_resolution  y_resolution  \\\n",
       "0     acer    qled            NaN         missing        1366.0         768.0   \n",
       "1   xiaomi     led        Full HD         missing        1920.0        1080.0   \n",
       "2       lg     led  4K Resolution   4K Resolution        3840.0        2160.0   \n",
       "3  samsung     led  4K Resolution   4K Resolution        3840.0        2160.0   \n",
       "4       lg     led            NaN         missing        1366.0         768.0   \n",
       "\n",
       "   screen_size  processor_core  processor_ram  processor_inbuilt_storage  ...  \\\n",
       "0         32.0             4.0            1.5                       16.0  ...   \n",
       "1         43.0             NaN            1.0                        8.0  ...   \n",
       "2         43.0             NaN            NaN                        NaN  ...   \n",
       "3         43.0             NaN            NaN                        NaN  ...   \n",
       "4         32.0             NaN            NaN                        NaN  ...   \n",
       "\n",
       "         hd  has_wifi has_ethernet  is_smart  is_ultra_slim  viewing_angle  \\\n",
       "0        HD       1.0          1.0       1.0            1.0          178.0   \n",
       "1   Full HD       1.0          1.0       1.0            0.0          178.0   \n",
       "2  Ultra HD       1.0          1.0       1.0            NaN            NaN   \n",
       "3  Ultra HD       1.0          1.0       1.0            0.0          178.0   \n",
       "4        HD       1.0          1.0       1.0            0.0          178.0   \n",
       "\n",
       "   num_hdmi_ports  num_usb_ports  rating    price  \n",
       "0             2.0            2.0    53.0  14999.0  \n",
       "1             2.0            2.0    53.0   9999.0  \n",
       "2             3.0            2.0    65.0  31990.0  \n",
       "3             2.0            1.0    63.0  38900.0  \n",
       "4             3.0            2.0    48.0  16249.0  \n",
       "\n",
       "[5 rows x 22 columns]"
      ]
     },
     "execution_count": 4,
     "metadata": {},
     "output_type": "execute_result"
    }
   ],
   "source": [
    "data = pd.read_csv('./tv_cleaned_v2.csv')\n",
    "data.drop(columns='Unnamed: 0', inplace=True)\n",
    "data.head()"
   ]
  },
  {
   "cell_type": "code",
   "execution_count": 32,
   "id": "2feffe9f-a241-4542-b348-4536d0a46a5b",
   "metadata": {},
   "outputs": [
    {
     "data": {
      "text/plain": [
       "115"
      ]
     },
     "execution_count": 32,
     "metadata": {},
     "output_type": "execute_result"
    }
   ],
   "source": [
    "data.duplicated().sum()"
   ]
  },
  {
   "cell_type": "code",
   "execution_count": 33,
   "id": "9d2627cb-d6ec-4afb-a393-75e23709bb91",
   "metadata": {},
   "outputs": [],
   "source": [
    "data.drop_duplicates(inplace=True)"
   ]
  },
  {
   "cell_type": "code",
   "execution_count": null,
   "id": "46574ea0-ce25-4184-90e9-fa3685d38313",
   "metadata": {},
   "outputs": [],
   "source": []
  },
  {
   "cell_type": "markdown",
   "id": "aa4bc24c-c94d-41a0-bd47-542921c6602b",
   "metadata": {},
   "source": [
    "1. UNIVARIATE ANALYSIS"
   ]
  },
  {
   "cell_type": "markdown",
   "id": "2bdbda6e-200d-47bf-91e2-33fadcad7b15",
   "metadata": {},
   "source": [
    "# brand"
   ]
  },
  {
   "cell_type": "code",
   "execution_count": 55,
   "id": "1bf38e32-90a8-4cb7-bb99-799d5afbb14e",
   "metadata": {},
   "outputs": [],
   "source": [
    "brand_val_counts = data['brand'].value_counts()\n",
    "brands_to_map = brand_val_counts[brand_val_counts<11].index.tolist()\n",
    "data['brand2'] = data['brand'].apply(lambda x: 'others' if x in brands_to_map else x)"
   ]
  },
  {
   "cell_type": "code",
   "execution_count": 56,
   "id": "30605fd6-791c-41af-a026-9981a333c81a",
   "metadata": {},
   "outputs": [
    {
     "data": {
      "image/png": "[encoded data removed]",
      "text/plain": [
       "<Figure size 640x480 with 1 Axes>"
      ]
     },
     "metadata": {},
     "output_type": "display_data"
    }
   ],
   "source": [
    "sns.countplot(data['brand'])\n",
    "plt.xticks(rotation='vertical')\n",
    "plt.show()"
   ]
  },
  {
   "cell_type": "markdown",
   "id": "b20222eb-089b-48c3-bd67-27216e162697",
   "metadata": {},
   "source": [
    "- apart from 'others', most of the phones in our data belong ot samsung, lg and tcl."
   ]
  },
  {
   "cell_type": "code",
   "execution_count": null,
   "id": "e367ff8e-1824-4752-8abb-16dfbc558094",
   "metadata": {},
   "outputs": [],
   "source": []
  },
  {
   "cell_type": "code",
   "execution_count": 17,
   "id": "1be29a6f-a4b2-4ccd-8ad9-2a54ccb18832",
   "metadata": {},
   "outputs": [],
   "source": []
  },
  {
   "cell_type": "code",
   "execution_count": 18,
   "id": "1095ad20-87ba-4ebe-aeb3-8889d6177478",
   "metadata": {},
   "outputs": [
    {
     "data": {
      "text/plain": [
       "others       272\n",
       "samsung      135\n",
       "lg            85\n",
       "tcl           66\n",
       "xiaomi        58\n",
       "sony          54\n",
       "hisense       33\n",
       "acer          31\n",
       "panasonic     31\n",
       "haier         24\n",
       "kodak         21\n",
       "sansui        18\n",
       "vu            17\n",
       "thomson       17\n",
       "toshiba       16\n",
       "infinix       15\n",
       "croma         14\n",
       "onida         13\n",
       "iffalcon      12\n",
       "oneplus       12\n",
       "coocaa        11\n",
       "Name: brand2, dtype: int64"
      ]
     },
     "execution_count": 18,
     "metadata": {},
     "output_type": "execute_result"
    }
   ],
   "source": [
    "data['brand2'].value_counts()"
   ]
  },
  {
   "cell_type": "code",
   "execution_count": 19,
   "id": "330d6898-6557-44ba-ba91-5a8ecf756639",
   "metadata": {},
   "outputs": [],
   "source": [
    "data.drop(columns='brand', inplace=True)"
   ]
  },
  {
   "cell_type": "code",
   "execution_count": 20,
   "id": "a4411879-4d1a-49ce-bd2d-2982cffdd90c",
   "metadata": {},
   "outputs": [],
   "source": [
    "data.rename(columns={'brand2':'brand'}, inplace=True)"
   ]
  },
  {
   "cell_type": "markdown",
   "id": "649c20af-2746-40a6-84ae-db63dde68f2e",
   "metadata": {},
   "source": [
    "- There were around 50 categorie in brand column \n",
    "- to reduce cardinality, the brand which had <11 TVs in the data is included in the others column"
   ]
  },
  {
   "cell_type": "code",
   "execution_count": 34,
   "id": "30a73494-5492-4067-9616-d70d92e7d8d9",
   "metadata": {},
   "outputs": [
    {
     "data": {
      "text/plain": [
       "1"
      ]
     },
     "execution_count": 34,
     "metadata": {},
     "output_type": "execute_result"
    }
   ],
   "source": [
    "data['brand'].isna().sum()"
   ]
  },
  {
   "cell_type": "markdown",
   "id": "4b752959-edcb-4530-8584-423a36fba392",
   "metadata": {},
   "source": [
    "The row where brand is NaN has all the column values as NaN , so dropping that row"
   ]
  },
  {
   "cell_type": "code",
   "execution_count": 36,
   "id": "3bb42156-2048-4638-bc58-fbe7ebbd9dc8",
   "metadata": {},
   "outputs": [],
   "source": [
    "data[data['brand'].isna()]\n",
    "data.drop(index=30, inplace=True)"
   ]
  },
  {
   "cell_type": "code",
   "execution_count": null,
   "id": "92dca0d5-ce7f-421e-aca3-0d372fc3d2c4",
   "metadata": {},
   "outputs": [],
   "source": []
  },
  {
   "cell_type": "markdown",
   "id": "d48f6578-aced-4ac8-94b3-532ce3e4d5ff",
   "metadata": {},
   "source": [
    " # resolution"
   ]
  },
  {
   "cell_type": "code",
   "execution_count": 38,
   "id": "10ea8a40-5dc7-4cfb-8cc7-bfa8aa1adcb7",
   "metadata": {},
   "outputs": [
    {
     "data": {
      "text/plain": [
       "array([nan, 'Full HD', '4K Resolution', '8K Resolution', 'HD Ready'],\n",
       "      dtype=object)"
      ]
     },
     "execution_count": 38,
     "metadata": {},
     "output_type": "execute_result"
    }
   ],
   "source": [
    "data['resolution'].unique()"
   ]
  },
  {
   "cell_type": "code",
   "execution_count": 41,
   "id": "6639b208-242c-43de-ae42-0b11793586f9",
   "metadata": {},
   "outputs": [
    {
     "data": {
      "text/plain": [
       "4K Resolution    588\n",
       "Full HD          116\n",
       "8K Resolution     13\n",
       "HD Ready           2\n",
       "Name: resolution, dtype: int64"
      ]
     },
     "execution_count": 41,
     "metadata": {},
     "output_type": "execute_result"
    }
   ],
   "source": [
    "data['resolution'].value_counts()"
   ]
  },
  {
   "cell_type": "code",
   "execution_count": 58,
   "id": "140f6cc2-d060-4316-88d1-431b48828958",
   "metadata": {},
   "outputs": [
    {
     "data": {
      "text/plain": [
       "185"
      ]
     },
     "execution_count": 58,
     "metadata": {},
     "output_type": "execute_result"
    }
   ],
   "source": [
    "data['resolution'].isna().sum()"
   ]
  },
  {
   "cell_type": "markdown",
   "id": "c858eb0d-ae01-44cd-a758-49b385961bd6",
   "metadata": {},
   "source": [
    "- There are 185 null values in resolution column"
   ]
  },
  {
   "cell_type": "code",
   "execution_count": null,
   "id": "a4d74f53-a3f9-4940-b8a1-5d2408538315",
   "metadata": {},
   "outputs": [],
   "source": []
  },
  {
   "cell_type": "markdown",
   "id": "234bfd59-4984-410b-81ab-780cda4a4d80",
   "metadata": {},
   "source": [
    "# x_resolution"
   ]
  },
  {
   "cell_type": "code",
   "execution_count": 59,
   "id": "617cde0f-d9d7-41f4-931a-2deca489950f",
   "metadata": {},
   "outputs": [
    {
     "data": {
      "text/plain": [
       "1"
      ]
     },
     "execution_count": 59,
     "metadata": {},
     "output_type": "execute_result"
    }
   ],
   "source": [
    "data['x_resolution'].isna().sum()"
   ]
  },
  {
   "cell_type": "code",
   "execution_count": 51,
   "id": "929d2944-af8b-4aa7-a53f-be2228d0274a",
   "metadata": {},
   "outputs": [
    {
     "data": {
      "image/png": "[encoded data removed]",
      "text/plain": [
       "<Figure size 640x480 with 1 Axes>"
      ]
     },
     "metadata": {},
     "output_type": "display_data"
    }
   ],
   "source": [
    "sns.countplot(data['x_resolution'])\n",
    "plt.xticks(rotation='vertical')\n",
    "plt.show()"
   ]
  },
  {
   "cell_type": "code",
   "execution_count": 60,
   "id": "ebbce910-e30d-484c-85c8-355b9abc5cfd",
   "metadata": {},
   "outputs": [
    {
     "data": {
      "text/html": [
       "<div>\n",
       "<style scoped>\n",
       "    .dataframe tbody tr th:only-of-type {\n",
       "        vertical-align: middle;\n",
       "    }\n",
       "\n",
       "    .dataframe tbody tr th {\n",
       "        vertical-align: top;\n",
       "    }\n",
       "\n",
       "    .dataframe thead th {\n",
       "        text-align: right;\n",
       "    }\n",
       "</style>\n",
       "<table border=\"1\" class=\"dataframe\">\n",
       "  <thead>\n",
       "    <tr style=\"text-align: right;\">\n",
       "      <th></th>\n",
       "      <th>tv_type</th>\n",
       "      <th>resolution</th>\n",
       "      <th>resolution_type</th>\n",
       "      <th>x_resolution</th>\n",
       "      <th>y_resolution</th>\n",
       "      <th>screen_size</th>\n",
       "      <th>processor_core</th>\n",
       "      <th>processor_ram</th>\n",
       "      <th>processor_inbuilt_storage</th>\n",
       "      <th>num_speakers</th>\n",
       "      <th>...</th>\n",
       "      <th>has_ethernet</th>\n",
       "      <th>is_smart</th>\n",
       "      <th>is_ultra_slim</th>\n",
       "      <th>viewing_angle</th>\n",
       "      <th>num_hdmi_ports</th>\n",
       "      <th>num_usb_ports</th>\n",
       "      <th>rating</th>\n",
       "      <th>price</th>\n",
       "      <th>brand</th>\n",
       "      <th>brand2</th>\n",
       "    </tr>\n",
       "  </thead>\n",
       "  <tbody>\n",
       "    <tr>\n",
       "      <th>59</th>\n",
       "      <td>NaN</td>\n",
       "      <td>NaN</td>\n",
       "      <td>missing</td>\n",
       "      <td>NaN</td>\n",
       "      <td>NaN</td>\n",
       "      <td>27.0</td>\n",
       "      <td>NaN</td>\n",
       "      <td>NaN</td>\n",
       "      <td>NaN</td>\n",
       "      <td>NaN</td>\n",
       "      <td>...</td>\n",
       "      <td>0.0</td>\n",
       "      <td>1.0</td>\n",
       "      <td>0.0</td>\n",
       "      <td>178.0</td>\n",
       "      <td>2.0</td>\n",
       "      <td>2.0</td>\n",
       "      <td>45.0</td>\n",
       "      <td>99999.0</td>\n",
       "      <td>lg</td>\n",
       "      <td>lg</td>\n",
       "    </tr>\n",
       "  </tbody>\n",
       "</table>\n",
       "<p>1 rows × 23 columns</p>\n",
       "</div>"
      ],
      "text/plain": [
       "   tv_type resolution resolution_type  x_resolution  y_resolution  \\\n",
       "59     NaN        NaN         missing           NaN           NaN   \n",
       "\n",
       "    screen_size  processor_core  processor_ram  processor_inbuilt_storage  \\\n",
       "59         27.0             NaN            NaN                        NaN   \n",
       "\n",
       "    num_speakers  ...  has_ethernet is_smart  is_ultra_slim  viewing_angle  \\\n",
       "59           NaN  ...           0.0      1.0            0.0          178.0   \n",
       "\n",
       "    num_hdmi_ports  num_usb_ports  rating    price  brand  brand2  \n",
       "59             2.0            2.0    45.0  99999.0     lg      lg  \n",
       "\n",
       "[1 rows x 23 columns]"
      ]
     },
     "execution_count": 60,
     "metadata": {},
     "output_type": "execute_result"
    }
   ],
   "source": [
    "data[data['x_resolution'].isna()]"
   ]
  },
  {
   "cell_type": "code",
   "execution_count": null,
   "id": "e2e2f02e-5c69-494d-871f-f2c8c1739058",
   "metadata": {},
   "outputs": [],
   "source": []
  },
  {
   "cell_type": "markdown",
   "id": "e3438b6c-2e61-4ee5-8974-8b3055794041",
   "metadata": {},
   "source": [
    "# y_resolution"
   ]
  },
  {
   "cell_type": "code",
   "execution_count": 62,
   "id": "cd688932-925d-407c-b8eb-792f2d2afad8",
   "metadata": {},
   "outputs": [
    {
     "data": {
      "text/plain": [
       "1"
      ]
     },
     "execution_count": 62,
     "metadata": {},
     "output_type": "execute_result"
    }
   ],
   "source": [
    "data['y_resolution'].isna().sum()"
   ]
  },
  {
   "cell_type": "code",
   "execution_count": 53,
   "id": "eed04bb1-29fb-40b3-be3a-aa1fdd91ac94",
   "metadata": {},
   "outputs": [
    {
     "data": {
      "image/png": "[encoded data removed]",
      "text/plain": [
       "<Figure size 640x480 with 1 Axes>"
      ]
     },
     "metadata": {},
     "output_type": "display_data"
    }
   ],
   "source": [
    "sns.countplot(data['y_resolution'])\n",
    "plt.xticks(rotation='vertical')\n",
    "plt.show()"
   ]
  },
  {
   "cell_type": "code",
   "execution_count": 63,
   "id": "d7908ad9-fb55-45e0-9902-0556ec9c0d59",
   "metadata": {},
   "outputs": [
    {
     "data": {
      "text/html": [
       "<div>\n",
       "<style scoped>\n",
       "    .dataframe tbody tr th:only-of-type {\n",
       "        vertical-align: middle;\n",
       "    }\n",
       "\n",
       "    .dataframe tbody tr th {\n",
       "        vertical-align: top;\n",
       "    }\n",
       "\n",
       "    .dataframe thead th {\n",
       "        text-align: right;\n",
       "    }\n",
       "</style>\n",
       "<table border=\"1\" class=\"dataframe\">\n",
       "  <thead>\n",
       "    <tr style=\"text-align: right;\">\n",
       "      <th></th>\n",
       "      <th>tv_type</th>\n",
       "      <th>resolution</th>\n",
       "      <th>resolution_type</th>\n",
       "      <th>x_resolution</th>\n",
       "      <th>y_resolution</th>\n",
       "      <th>screen_size</th>\n",
       "      <th>processor_core</th>\n",
       "      <th>processor_ram</th>\n",
       "      <th>processor_inbuilt_storage</th>\n",
       "      <th>num_speakers</th>\n",
       "      <th>...</th>\n",
       "      <th>has_ethernet</th>\n",
       "      <th>is_smart</th>\n",
       "      <th>is_ultra_slim</th>\n",
       "      <th>viewing_angle</th>\n",
       "      <th>num_hdmi_ports</th>\n",
       "      <th>num_usb_ports</th>\n",
       "      <th>rating</th>\n",
       "      <th>price</th>\n",
       "      <th>brand</th>\n",
       "      <th>brand2</th>\n",
       "    </tr>\n",
       "  </thead>\n",
       "  <tbody>\n",
       "    <tr>\n",
       "      <th>59</th>\n",
       "      <td>NaN</td>\n",
       "      <td>NaN</td>\n",
       "      <td>missing</td>\n",
       "      <td>NaN</td>\n",
       "      <td>NaN</td>\n",
       "      <td>27.0</td>\n",
       "      <td>NaN</td>\n",
       "      <td>NaN</td>\n",
       "      <td>NaN</td>\n",
       "      <td>NaN</td>\n",
       "      <td>...</td>\n",
       "      <td>0.0</td>\n",
       "      <td>1.0</td>\n",
       "      <td>0.0</td>\n",
       "      <td>178.0</td>\n",
       "      <td>2.0</td>\n",
       "      <td>2.0</td>\n",
       "      <td>45.0</td>\n",
       "      <td>99999.0</td>\n",
       "      <td>lg</td>\n",
       "      <td>lg</td>\n",
       "    </tr>\n",
       "  </tbody>\n",
       "</table>\n",
       "<p>1 rows × 23 columns</p>\n",
       "</div>"
      ],
      "text/plain": [
       "   tv_type resolution resolution_type  x_resolution  y_resolution  \\\n",
       "59     NaN        NaN         missing           NaN           NaN   \n",
       "\n",
       "    screen_size  processor_core  processor_ram  processor_inbuilt_storage  \\\n",
       "59         27.0             NaN            NaN                        NaN   \n",
       "\n",
       "    num_speakers  ...  has_ethernet is_smart  is_ultra_slim  viewing_angle  \\\n",
       "59           NaN  ...           0.0      1.0            0.0          178.0   \n",
       "\n",
       "    num_hdmi_ports  num_usb_ports  rating    price  brand  brand2  \n",
       "59             2.0            2.0    45.0  99999.0     lg      lg  \n",
       "\n",
       "[1 rows x 23 columns]"
      ]
     },
     "execution_count": 63,
     "metadata": {},
     "output_type": "execute_result"
    }
   ],
   "source": [
    "data[data['y_resolution'].isna()]"
   ]
  },
  {
   "cell_type": "code",
   "execution_count": 64,
   "id": "c4ba7353-b8a6-474a-a23f-63a68bcbe1f2",
   "metadata": {},
   "outputs": [
    {
     "data": {
      "text/plain": [
       "Index(['tv_type', 'resolution', 'resolution_type', 'x_resolution',\n",
       "       'y_resolution', 'screen_size', 'processor_core', 'processor_ram',\n",
       "       'processor_inbuilt_storage', 'num_speakers', 'speaker_output', 'hd',\n",
       "       'has_wifi', 'has_ethernet', 'is_smart', 'is_ultra_slim',\n",
       "       'viewing_angle', 'num_hdmi_ports', 'num_usb_ports', 'rating', 'price',\n",
       "       'brand', 'brand2'],\n",
       "      dtype='object')"
      ]
     },
     "execution_count": 64,
     "metadata": {},
     "output_type": "execute_result"
    }
   ],
   "source": [
    "data.columns "
   ]
  },
  {
   "cell_type": "code",
   "execution_count": 68,
   "id": "1bbd8c7a-b191-4e3d-bcc7-1bd63a0455ab",
   "metadata": {},
   "outputs": [],
   "source": [
    "data = (data[['brand','tv_type', 'resolution', 'resolution_type', 'x_resolution',\n",
    "       'y_resolution', 'screen_size', 'processor_core', 'processor_ram',\n",
    "       'processor_inbuilt_storage', 'num_speakers', 'speaker_output', 'hd',\n",
    "       'has_wifi', 'has_ethernet', 'is_smart', 'is_ultra_slim',\n",
    "       'viewing_angle', 'num_hdmi_ports', 'num_usb_ports', 'rating', 'price' ]])"
   ]
  },
  {
   "cell_type": "code",
   "execution_count": 67,
   "id": "c50b05d3-0273-4d52-905f-7d06c04425fe",
   "metadata": {},
   "outputs": [],
   "source": [
    "data.drop(columns='brand2', inplace=True)"
   ]
  },
  {
   "cell_type": "code",
   "execution_count": null,
   "id": "1c41e497-38a2-4e75-8c05-193933063dce",
   "metadata": {},
   "outputs": [],
   "source": []
  },
  {
   "cell_type": "markdown",
   "id": "f191fbb2-14e1-4a6b-9aa7-4d80652acabf",
   "metadata": {},
   "source": [
    "# screen_size"
   ]
  },
  {
   "cell_type": "code",
   "execution_count": 74,
   "id": "db3fdcf4-4108-488c-8603-1bc1427b9559",
   "metadata": {
    "collapsed": true,
    "jupyter": {
     "outputs_hidden": true
    },
    "tags": []
   },
   "outputs": [
    {
     "data": {
      "text/plain": [
       "32.00     166\n",
       "55.00     163\n",
       "43.00     153\n",
       "65.00     126\n",
       "50.00      80\n",
       "75.00      46\n",
       "40.00      29\n",
       "24.00      24\n",
       "85.00      23\n",
       "98.00      11\n",
       "77.00      10\n",
       "70.00       7\n",
       "31.50       7\n",
       "48.00       5\n",
       "42.00       5\n",
       "83.00       5\n",
       "54.72       5\n",
       "97.00       3\n",
       "42.91       3\n",
       "100.00      3\n",
       "74.41       3\n",
       "49.61       3\n",
       "58.00       3\n",
       "86.00       3\n",
       "60.00       2\n",
       "90.00       2\n",
       "89.00       2\n",
       "64.57       1\n",
       "23.62       1\n",
       "39.37       1\n",
       "23.00       1\n",
       "88.00       1\n",
       "110.00      1\n",
       "55.12       1\n",
       "120.00      1\n",
       "27.00       1\n",
       "82.00       1\n",
       "292.00      1\n",
       "57.48       1\n",
       "Name: screen_size, dtype: int64"
      ]
     },
     "execution_count": 74,
     "metadata": {},
     "output_type": "execute_result"
    }
   ],
   "source": [
    "data['screen_size'].value_counts()"
   ]
  },
  {
   "cell_type": "code",
   "execution_count": 75,
   "id": "cca2c0f9-cc86-4d20-9b0e-ec14aff4036d",
   "metadata": {},
   "outputs": [
    {
     "data": {
      "text/plain": [
       "0"
      ]
     },
     "execution_count": 75,
     "metadata": {},
     "output_type": "execute_result"
    }
   ],
   "source": [
    "data['screen_size'].isna().sum()"
   ]
  },
  {
   "cell_type": "code",
   "execution_count": null,
   "id": "20972b1b-6f23-47a7-b60a-2b8aa968bff0",
   "metadata": {},
   "outputs": [],
   "source": []
  },
  {
   "cell_type": "markdown",
   "id": "47588e9b-9600-435f-b2f6-5d5f9ebae0a3",
   "metadata": {},
   "source": [
    "# processor_core"
   ]
  },
  {
   "cell_type": "code",
   "execution_count": 76,
   "id": "68b5bdba-626e-4d51-b8a5-2f3bba65f2b9",
   "metadata": {
    "collapsed": true,
    "jupyter": {
     "outputs_hidden": true
    },
    "tags": []
   },
   "outputs": [
    {
     "data": {
      "text/plain": [
       "32.00     166\n",
       "55.00     163\n",
       "43.00     153\n",
       "65.00     126\n",
       "50.00      80\n",
       "75.00      46\n",
       "40.00      29\n",
       "24.00      24\n",
       "85.00      23\n",
       "98.00      11\n",
       "77.00      10\n",
       "70.00       7\n",
       "31.50       7\n",
       "48.00       5\n",
       "42.00       5\n",
       "83.00       5\n",
       "54.72       5\n",
       "97.00       3\n",
       "42.91       3\n",
       "100.00      3\n",
       "74.41       3\n",
       "49.61       3\n",
       "58.00       3\n",
       "86.00       3\n",
       "60.00       2\n",
       "90.00       2\n",
       "89.00       2\n",
       "64.57       1\n",
       "23.62       1\n",
       "39.37       1\n",
       "23.00       1\n",
       "88.00       1\n",
       "110.00      1\n",
       "55.12       1\n",
       "120.00      1\n",
       "27.00       1\n",
       "82.00       1\n",
       "292.00      1\n",
       "57.48       1\n",
       "Name: screen_size, dtype: int64"
      ]
     },
     "execution_count": 76,
     "metadata": {},
     "output_type": "execute_result"
    }
   ],
   "source": [
    "data['screen_size'].value_counts()"
   ]
  },
  {
   "cell_type": "code",
   "execution_count": 79,
   "id": "554d5301-111a-4b41-a265-3b54a8d52a20",
   "metadata": {},
   "outputs": [
    {
     "data": {
      "image/png": "[encoded data removed]",
      "text/plain": [
       "<Figure size 1500x700 with 1 Axes>"
      ]
     },
     "metadata": {},
     "output_type": "display_data"
    }
   ],
   "source": [
    "plt.figure(figsize=(15,7))\n",
    "sns.countplot(data['screen_size'])\n",
    "plt.xticks(rotation='vertical')\n",
    "plt.show()"
   ]
  },
  {
   "cell_type": "markdown",
   "id": "65842282-ee4a-4e5e-9bce-07443a3327ea",
   "metadata": {},
   "source": [
    "- top 3 most frequently occuring screen sizes are 32, 55 and 43 inches\n",
    "- there is also TVs with screen sizes >100"
   ]
  },
  {
   "cell_type": "code",
   "execution_count": 80,
   "id": "af2d401b-0a77-428f-a7b9-b239bc5368e5",
   "metadata": {},
   "outputs": [
    {
     "data": {
      "text/html": [
       "<div>\n",
       "<style scoped>\n",
       "    .dataframe tbody tr th:only-of-type {\n",
       "        vertical-align: middle;\n",
       "    }\n",
       "\n",
       "    .dataframe tbody tr th {\n",
       "        vertical-align: top;\n",
       "    }\n",
       "\n",
       "    .dataframe thead th {\n",
       "        text-align: right;\n",
       "    }\n",
       "</style>\n",
       "<table border=\"1\" class=\"dataframe\">\n",
       "  <thead>\n",
       "    <tr style=\"text-align: right;\">\n",
       "      <th></th>\n",
       "      <th>brand</th>\n",
       "      <th>tv_type</th>\n",
       "      <th>resolution</th>\n",
       "      <th>resolution_type</th>\n",
       "      <th>x_resolution</th>\n",
       "      <th>y_resolution</th>\n",
       "      <th>screen_size</th>\n",
       "      <th>processor_core</th>\n",
       "      <th>processor_ram</th>\n",
       "      <th>processor_inbuilt_storage</th>\n",
       "      <th>...</th>\n",
       "      <th>hd</th>\n",
       "      <th>has_wifi</th>\n",
       "      <th>has_ethernet</th>\n",
       "      <th>is_smart</th>\n",
       "      <th>is_ultra_slim</th>\n",
       "      <th>viewing_angle</th>\n",
       "      <th>num_hdmi_ports</th>\n",
       "      <th>num_usb_ports</th>\n",
       "      <th>rating</th>\n",
       "      <th>price</th>\n",
       "    </tr>\n",
       "  </thead>\n",
       "  <tbody>\n",
       "    <tr>\n",
       "      <th>23</th>\n",
       "      <td>samsung</td>\n",
       "      <td>micro led</td>\n",
       "      <td>8K Resolution</td>\n",
       "      <td>8K Resolution</td>\n",
       "      <td>7680.0</td>\n",
       "      <td>4320.0</td>\n",
       "      <td>292.0</td>\n",
       "      <td>NaN</td>\n",
       "      <td>NaN</td>\n",
       "      <td>NaN</td>\n",
       "      <td>...</td>\n",
       "      <td>Ultra HD</td>\n",
       "      <td>1.0</td>\n",
       "      <td>0.0</td>\n",
       "      <td>1.0</td>\n",
       "      <td>1.0</td>\n",
       "      <td>178.0</td>\n",
       "      <td>NaN</td>\n",
       "      <td>NaN</td>\n",
       "      <td>79.0</td>\n",
       "      <td>8800000.0</td>\n",
       "    </tr>\n",
       "    <tr>\n",
       "      <th>75</th>\n",
       "      <td>samsung</td>\n",
       "      <td>micro led</td>\n",
       "      <td>4K Resolution</td>\n",
       "      <td>4K Resolution</td>\n",
       "      <td>3840.0</td>\n",
       "      <td>2160.0</td>\n",
       "      <td>110.0</td>\n",
       "      <td>NaN</td>\n",
       "      <td>NaN</td>\n",
       "      <td>NaN</td>\n",
       "      <td>...</td>\n",
       "      <td>Ultra HD</td>\n",
       "      <td>1.0</td>\n",
       "      <td>0.0</td>\n",
       "      <td>1.0</td>\n",
       "      <td>NaN</td>\n",
       "      <td>NaN</td>\n",
       "      <td>6.0</td>\n",
       "      <td>3.0</td>\n",
       "      <td>88.0</td>\n",
       "      <td>11499000.0</td>\n",
       "    </tr>\n",
       "    <tr>\n",
       "      <th>503</th>\n",
       "      <td>hisense</td>\n",
       "      <td>laser</td>\n",
       "      <td>4K Resolution</td>\n",
       "      <td>4K Resolution</td>\n",
       "      <td>3840.0</td>\n",
       "      <td>2160.0</td>\n",
       "      <td>120.0</td>\n",
       "      <td>NaN</td>\n",
       "      <td>NaN</td>\n",
       "      <td>NaN</td>\n",
       "      <td>...</td>\n",
       "      <td>Ultra HD</td>\n",
       "      <td>1.0</td>\n",
       "      <td>1.0</td>\n",
       "      <td>1.0</td>\n",
       "      <td>NaN</td>\n",
       "      <td>NaN</td>\n",
       "      <td>3.0</td>\n",
       "      <td>2.0</td>\n",
       "      <td>73.0</td>\n",
       "      <td>499999.0</td>\n",
       "    </tr>\n",
       "  </tbody>\n",
       "</table>\n",
       "<p>3 rows × 22 columns</p>\n",
       "</div>"
      ],
      "text/plain": [
       "       brand    tv_type     resolution resolution_type  x_resolution  \\\n",
       "23   samsung  micro led  8K Resolution   8K Resolution        7680.0   \n",
       "75   samsung  micro led  4K Resolution   4K Resolution        3840.0   \n",
       "503  hisense      laser  4K Resolution   4K Resolution        3840.0   \n",
       "\n",
       "     y_resolution  screen_size  processor_core  processor_ram  \\\n",
       "23         4320.0        292.0             NaN            NaN   \n",
       "75         2160.0        110.0             NaN            NaN   \n",
       "503        2160.0        120.0             NaN            NaN   \n",
       "\n",
       "     processor_inbuilt_storage  ...        hd  has_wifi has_ethernet  \\\n",
       "23                         NaN  ...  Ultra HD       1.0          0.0   \n",
       "75                         NaN  ...  Ultra HD       1.0          0.0   \n",
       "503                        NaN  ...  Ultra HD       1.0          1.0   \n",
       "\n",
       "     is_smart  is_ultra_slim  viewing_angle  num_hdmi_ports  num_usb_ports  \\\n",
       "23        1.0            1.0          178.0             NaN            NaN   \n",
       "75        1.0            NaN            NaN             6.0            3.0   \n",
       "503       1.0            NaN            NaN             3.0            2.0   \n",
       "\n",
       "     rating       price  \n",
       "23     79.0   8800000.0  \n",
       "75     88.0  11499000.0  \n",
       "503    73.0    499999.0  \n",
       "\n",
       "[3 rows x 22 columns]"
      ]
     },
     "execution_count": 80,
     "metadata": {},
     "output_type": "execute_result"
    }
   ],
   "source": [
    "data[data['screen_size']>100]"
   ]
  },
  {
   "cell_type": "code",
   "execution_count": null,
   "id": "cce6672f-1549-44ec-a4d7-dd9c06bcd326",
   "metadata": {},
   "outputs": [],
   "source": []
  },
  {
   "cell_type": "code",
   "execution_count": 81,
   "id": "9a6b0f2b-a7ed-4762-8d9c-c206c4db1dcc",
   "metadata": {},
   "outputs": [
    {
     "data": {
      "text/html": [
       "<div>\n",
       "<style scoped>\n",
       "    .dataframe tbody tr th:only-of-type {\n",
       "        vertical-align: middle;\n",
       "    }\n",
       "\n",
       "    .dataframe tbody tr th {\n",
       "        vertical-align: top;\n",
       "    }\n",
       "\n",
       "    .dataframe thead th {\n",
       "        text-align: right;\n",
       "    }\n",
       "</style>\n",
       "<table border=\"1\" class=\"dataframe\">\n",
       "  <thead>\n",
       "    <tr style=\"text-align: right;\">\n",
       "      <th></th>\n",
       "      <th>Unnamed: 0</th>\n",
       "      <th>name</th>\n",
       "      <th>price</th>\n",
       "      <th>rating</th>\n",
       "      <th>screen_size</th>\n",
       "      <th>display</th>\n",
       "      <th>wifi</th>\n",
       "      <th>smart</th>\n",
       "      <th>speakers</th>\n",
       "      <th>processor</th>\n",
       "      <th>view</th>\n",
       "      <th>ports</th>\n",
       "    </tr>\n",
       "  </thead>\n",
       "  <tbody>\n",
       "    <tr>\n",
       "      <th>0</th>\n",
       "      <td>0</td>\n",
       "      <td>Acer V Series 32 inch HD Ready Smart QLED TV (...</td>\n",
       "      <td>â‚¹14,999</td>\n",
       "      <td>53</td>\n",
       "      <td>32â€‰in, QLED TV</td>\n",
       "      <td>1366â€‰xâ€‰768â€‰pixels</td>\n",
       "      <td>Wifi, Ethernet</td>\n",
       "      <td>Smart TV</td>\n",
       "      <td>2 Speakers, 30â€‰W Output</td>\n",
       "      <td>Quad Core Processor, 1.5 GB RAM, 16 GB Storage</td>\n",
       "      <td>Ultra Slim, 178â€‰Â° Viewing Angle</td>\n",
       "      <td>2 HDMI Ports, 2 USB Ports</td>\n",
       "    </tr>\n",
       "    <tr>\n",
       "      <th>1</th>\n",
       "      <td>1</td>\n",
       "      <td>Xiaomi EA43 43 inch Full HD Smart LED TV (L43M...</td>\n",
       "      <td>â‚¹9,999</td>\n",
       "      <td>53</td>\n",
       "      <td>43â€‰in, LED TV</td>\n",
       "      <td>Full HD, 1920â€‰xâ€‰1080â€‰pixels</td>\n",
       "      <td>Wifi, Ethernet</td>\n",
       "      <td>Smart TV</td>\n",
       "      <td>2 Speakers, 16â€‰W Output</td>\n",
       "      <td>Cortex A53 Processor, 1 GB RAM, 8 GB Storage</td>\n",
       "      <td>178â€‰Â° Viewing Angle</td>\n",
       "      <td>2 HDMI Ports, 2 USB Ports</td>\n",
       "    </tr>\n",
       "    <tr>\n",
       "      <th>2</th>\n",
       "      <td>2</td>\n",
       "      <td>LG UR75 43 inch Ultra HD 4K Smart LED TV (43UR...</td>\n",
       "      <td>â‚¹31,990</td>\n",
       "      <td>65</td>\n",
       "      <td>43â€‰in, LED TV</td>\n",
       "      <td>4K Resolution, 3840â€‰xâ€‰2160â€‰pixels</td>\n",
       "      <td>Wifi, Ethernet</td>\n",
       "      <td>Smart TV</td>\n",
       "      <td>2 Speakers, 20â€‰W Output</td>\n",
       "      <td>3 HDMI Ports, 2 USB Ports</td>\n",
       "      <td>Supports Apps &amp; Games</td>\n",
       "      <td>Screen Mirroring / Miracast Support</td>\n",
       "    </tr>\n",
       "    <tr>\n",
       "      <th>3</th>\n",
       "      <td>3</td>\n",
       "      <td>Samsung CU7700 43 inch Ultra HD 4K Smart LED T...</td>\n",
       "      <td>â‚¹38,900</td>\n",
       "      <td>63</td>\n",
       "      <td>43â€‰in, LED TV</td>\n",
       "      <td>4K Resolution, 3840â€‰xâ€‰2160â€‰pixels</td>\n",
       "      <td>Wifi, Ethernet</td>\n",
       "      <td>Smart TV</td>\n",
       "      <td>2 Speakers, 20â€‰W Output</td>\n",
       "      <td>178â€‰Â° Viewing Angle</td>\n",
       "      <td>2 HDMI Ports, 1 USB Ports</td>\n",
       "      <td>Supports Apps &amp; Games</td>\n",
       "    </tr>\n",
       "    <tr>\n",
       "      <th>4</th>\n",
       "      <td>4</td>\n",
       "      <td>LG LQ64 32 inch HD Ready Smart LED TV (32LQ640...</td>\n",
       "      <td>â‚¹16,249</td>\n",
       "      <td>48</td>\n",
       "      <td>32â€‰in, LED TV</td>\n",
       "      <td>1366â€‰xâ€‰768â€‰pixels</td>\n",
       "      <td>Wifi, Ethernet</td>\n",
       "      <td>Smart TV</td>\n",
       "      <td>2 Speakers, 16â€‰W Output</td>\n",
       "      <td>178â€‰Â° Viewing Angle</td>\n",
       "      <td>3 HDMI Ports, 2 USB Ports</td>\n",
       "      <td>Screen Mirroring / Miracast Support</td>\n",
       "    </tr>\n",
       "  </tbody>\n",
       "</table>\n",
       "</div>"
      ],
      "text/plain": [
       "   Unnamed: 0                                               name      price  \\\n",
       "0           0  Acer V Series 32 inch HD Ready Smart QLED TV (...  â‚¹14,999   \n",
       "1           1  Xiaomi EA43 43 inch Full HD Smart LED TV (L43M...   â‚¹9,999   \n",
       "2           2  LG UR75 43 inch Ultra HD 4K Smart LED TV (43UR...  â‚¹31,990   \n",
       "3           3  Samsung CU7700 43 inch Ultra HD 4K Smart LED T...  â‚¹38,900   \n",
       "4           4  LG LQ64 32 inch HD Ready Smart LED TV (32LQ640...  â‚¹16,249   \n",
       "\n",
       "   rating       screen_size                                  display  \\\n",
       "0      53  32â€‰in, QLED TV                  1366â€‰xâ€‰768â€‰pixels   \n",
       "1      53   43â€‰in, LED TV        Full HD, 1920â€‰xâ€‰1080â€‰pixels   \n",
       "2      65   43â€‰in, LED TV  4K Resolution, 3840â€‰xâ€‰2160â€‰pixels   \n",
       "3      63   43â€‰in, LED TV  4K Resolution, 3840â€‰xâ€‰2160â€‰pixels   \n",
       "4      48   32â€‰in, LED TV                  1366â€‰xâ€‰768â€‰pixels   \n",
       "\n",
       "             wifi     smart                   speakers  \\\n",
       "0  Wifi, Ethernet  Smart TV  2 Speakers, 30â€‰W Output   \n",
       "1  Wifi, Ethernet  Smart TV  2 Speakers, 16â€‰W Output   \n",
       "2  Wifi, Ethernet  Smart TV  2 Speakers, 20â€‰W Output   \n",
       "3  Wifi, Ethernet  Smart TV  2 Speakers, 20â€‰W Output   \n",
       "4  Wifi, Ethernet  Smart TV  2 Speakers, 16â€‰W Output   \n",
       "\n",
       "                                        processor  \\\n",
       "0  Quad Core Processor, 1.5 GB RAM, 16 GB Storage   \n",
       "1    Cortex A53 Processor, 1 GB RAM, 8 GB Storage   \n",
       "2                       3 HDMI Ports, 2 USB Ports   \n",
       "3                          178â€‰Â° Viewing Angle   \n",
       "4                          178â€‰Â° Viewing Angle   \n",
       "\n",
       "                                 view                                ports  \n",
       "0  Ultra Slim, 178â€‰Â° Viewing Angle            2 HDMI Ports, 2 USB Ports  \n",
       "1              178â€‰Â° Viewing Angle            2 HDMI Ports, 2 USB Ports  \n",
       "2               Supports Apps & Games  Screen Mirroring / Miracast Support  \n",
       "3           2 HDMI Ports, 1 USB Ports                Supports Apps & Games  \n",
       "4           3 HDMI Ports, 2 USB Ports  Screen Mirroring / Miracast Support  "
      ]
     },
     "execution_count": 81,
     "metadata": {},
     "output_type": "execute_result"
    }
   ],
   "source": [
    "original = pd.read_csv('./tv_original.csv')\n",
    "original.head()"
   ]
  },
  {
   "cell_type": "code",
   "execution_count": 89,
   "id": "79da3758-bd0c-4d24-95d0-0ecefe6ded84",
   "metadata": {},
   "outputs": [],
   "source": [
    "original['price'] = original['price'].str.replace('â‚¹1','').str.replace('â‚¹','').str.replace(',','').astype(int)"
   ]
  },
  {
   "cell_type": "code",
   "execution_count": 92,
   "id": "c655586f-e059-4886-b7e0-c411ae03cfdf",
   "metadata": {},
   "outputs": [],
   "source": [
    "pd.set_option('display.max_colwidth',None)"
   ]
  },
  {
   "cell_type": "code",
   "execution_count": 96,
   "id": "0feda66e-8cc8-40e0-b32b-81af7b4748be",
   "metadata": {},
   "outputs": [
    {
     "data": {
      "text/html": [
       "<div>\n",
       "<style scoped>\n",
       "    .dataframe tbody tr th:only-of-type {\n",
       "        vertical-align: middle;\n",
       "    }\n",
       "\n",
       "    .dataframe tbody tr th {\n",
       "        vertical-align: top;\n",
       "    }\n",
       "\n",
       "    .dataframe thead th {\n",
       "        text-align: right;\n",
       "    }\n",
       "</style>\n",
       "<table border=\"1\" class=\"dataframe\">\n",
       "  <thead>\n",
       "    <tr style=\"text-align: right;\">\n",
       "      <th></th>\n",
       "      <th>name</th>\n",
       "      <th>price</th>\n",
       "    </tr>\n",
       "  </thead>\n",
       "  <tbody>\n",
       "    <tr>\n",
       "      <th>23</th>\n",
       "      <td>Samsung The Wall Luxury 292-inch Ultra HD 8K Smart MicroLED TV</td>\n",
       "      <td>8800000</td>\n",
       "    </tr>\n",
       "    <tr>\n",
       "      <th>131</th>\n",
       "      <td>Samsung QA98Q900RBK 98-inch Ultra HD 8K Smart QLED TV</td>\n",
       "      <td>5999900</td>\n",
       "    </tr>\n",
       "    <tr>\n",
       "      <th>187</th>\n",
       "      <td>Samsung QA98Q900RBK 98-inch Ultra HD 8K Smart QLED TV</td>\n",
       "      <td>5999900</td>\n",
       "    </tr>\n",
       "    <tr>\n",
       "      <th>221</th>\n",
       "      <td>Samsung QA98Q900RBK 98-inch Ultra HD 8K Smart QLED TV</td>\n",
       "      <td>5999900</td>\n",
       "    </tr>\n",
       "    <tr>\n",
       "      <th>430</th>\n",
       "      <td>Samsung MNA89MS1BACXKR 89 inch Ultra HD 4K Smart Mini-LED TV</td>\n",
       "      <td>8311799</td>\n",
       "    </tr>\n",
       "    <tr>\n",
       "      <th>623</th>\n",
       "      <td>Samsung Neo MS1 89 inch Ultra HD 4K Smart Micro LED TV</td>\n",
       "      <td>7599999</td>\n",
       "    </tr>\n",
       "  </tbody>\n",
       "</table>\n",
       "</div>"
      ],
      "text/plain": [
       "                                                               name    price\n",
       "23   Samsung The Wall Luxury 292-inch Ultra HD 8K Smart MicroLED TV  8800000\n",
       "131           Samsung QA98Q900RBK 98-inch Ultra HD 8K Smart QLED TV  5999900\n",
       "187           Samsung QA98Q900RBK 98-inch Ultra HD 8K Smart QLED TV  5999900\n",
       "221           Samsung QA98Q900RBK 98-inch Ultra HD 8K Smart QLED TV  5999900\n",
       "430    Samsung MNA89MS1BACXKR 89 inch Ultra HD 4K Smart Mini-LED TV  8311799\n",
       "623          Samsung Neo MS1 89 inch Ultra HD 4K Smart Micro LED TV  7599999"
      ]
     },
     "execution_count": 96,
     "metadata": {},
     "output_type": "execute_result"
    }
   ],
   "source": [
    "original[original['price']>5000000][['name','price']]"
   ]
  },
  {
   "cell_type": "markdown",
   "id": "fdc569b6-c7ee-4f98-acac-1fab99805d71",
   "metadata": {},
   "source": [
    "- tvs whose prices are more than 5000000 are obviously  outliers can skew our results so dropping them"
   ]
  },
  {
   "cell_type": "code",
   "execution_count": 98,
   "id": "77c963aa-b332-4c2f-bcbc-df584c3acad3",
   "metadata": {},
   "outputs": [],
   "source": [
    "idx_to_drop = data[data['price']>5000000].index\n",
    "data.drop(index=idx_to_drop, inplace=True)"
   ]
  },
  {
   "cell_type": "code",
   "execution_count": null,
   "id": "3522d887-3b87-4d9d-bb11-a555416a19bb",
   "metadata": {},
   "outputs": [],
   "source": []
  },
  {
   "cell_type": "code",
   "execution_count": 99,
   "id": "4827eb5b-b2f9-4dc3-a170-5ed6531d0ca5",
   "metadata": {},
   "outputs": [
    {
     "data": {
      "image/png": "[encoded data removed]",
      "text/plain": [
       "<Figure size 640x480 with 1 Axes>"
      ]
     },
     "metadata": {},
     "output_type": "display_data"
    }
   ],
   "source": [
    "sns.countplot(data['screen_size'])\n",
    "plt.xticks(rotation='vertical');"
   ]
  },
  {
   "cell_type": "code",
   "execution_count": null,
   "id": "c524df90-1fb2-4e93-8ac4-cc38d421988d",
   "metadata": {},
   "outputs": [],
   "source": []
  },
  {
   "cell_type": "code",
   "execution_count": 101,
   "id": "36669530-886a-4a6b-87aa-59a47776b9a9",
   "metadata": {
    "collapsed": true,
    "jupyter": {
     "outputs_hidden": true
    },
    "tags": []
   },
   "outputs": [
    {
     "data": {
      "text/plain": [
       "32.00     166\n",
       "55.00     163\n",
       "43.00     153\n",
       "65.00     126\n",
       "50.00      80\n",
       "75.00      46\n",
       "40.00      29\n",
       "24.00      24\n",
       "85.00      23\n",
       "98.00      10\n",
       "77.00      10\n",
       "70.00       7\n",
       "31.50       7\n",
       "48.00       5\n",
       "83.00       5\n",
       "54.72       5\n",
       "42.00       5\n",
       "58.00       3\n",
       "100.00      3\n",
       "49.61       3\n",
       "97.00       3\n",
       "86.00       3\n",
       "42.91       3\n",
       "74.41       3\n",
       "90.00       2\n",
       "60.00       2\n",
       "82.00       1\n",
       "120.00      1\n",
       "55.12       1\n",
       "64.57       1\n",
       "27.00       1\n",
       "88.00       1\n",
       "39.37       1\n",
       "23.62       1\n",
       "23.00       1\n",
       "57.48       1\n",
       "Name: screen_size, dtype: int64"
      ]
     },
     "execution_count": 101,
     "metadata": {},
     "output_type": "execute_result"
    }
   ],
   "source": [
    "data['screen_size'].value_counts()"
   ]
  },
  {
   "cell_type": "code",
   "execution_count": null,
   "id": "a3f09975-a4ef-41e8-a9dd-8d477008d1c1",
   "metadata": {},
   "outputs": [],
   "source": []
  },
  {
   "cell_type": "code",
   "execution_count": 102,
   "id": "1554f5bf-cf62-489e-93c8-c777be6d4963",
   "metadata": {},
   "outputs": [
    {
     "data": {
      "text/plain": [
       "Index(['brand', 'tv_type', 'resolution', 'resolution_type', 'x_resolution',\n",
       "       'y_resolution', 'screen_size', 'processor_core', 'processor_ram',\n",
       "       'processor_inbuilt_storage', 'num_speakers', 'speaker_output', 'hd',\n",
       "       'has_wifi', 'has_ethernet', 'is_smart', 'is_ultra_slim',\n",
       "       'viewing_angle', 'num_hdmi_ports', 'num_usb_ports', 'rating', 'price'],\n",
       "      dtype='object')"
      ]
     },
     "execution_count": 102,
     "metadata": {},
     "output_type": "execute_result"
    }
   ],
   "source": [
    "data.columns"
   ]
  },
  {
   "cell_type": "code",
   "execution_count": null,
   "id": "259c5df8-1067-418a-bc5c-4a2d6ab93117",
   "metadata": {},
   "outputs": [],
   "source": []
  },
  {
   "cell_type": "markdown",
   "id": "6a325953-4a9e-484a-9ed3-6e05e0fa6229",
   "metadata": {},
   "source": [
    "# processor core"
   ]
  },
  {
   "cell_type": "code",
   "execution_count": 107,
   "id": "8364528e-a994-40aa-b0da-b51bf6adb906",
   "metadata": {},
   "outputs": [
    {
     "data": {
      "text/plain": [
       "84.98331479421579"
      ]
     },
     "execution_count": 107,
     "metadata": {},
     "output_type": "execute_result"
    }
   ],
   "source": [
    "data['processor_core'].isna().mean() * 100"
   ]
  },
  {
   "cell_type": "markdown",
   "id": "dddb81e6-2ee4-4dab-a358-0b237a6b9ad5",
   "metadata": {},
   "source": [
    "- around 85% data in processor core is missing, drop it"
   ]
  },
  {
   "cell_type": "code",
   "execution_count": 103,
   "id": "87fe957e-36f6-4b1d-9a8b-413b8e3edeab",
   "metadata": {},
   "outputs": [
    {
     "data": {
      "image/png": "[encoded data removed]",
      "text/plain": [
       "<Figure size 640x480 with 1 Axes>"
      ]
     },
     "metadata": {},
     "output_type": "display_data"
    }
   ],
   "source": [
    "sns.countplot(data['processor_core'])\n",
    "plt.show()"
   ]
  },
  {
   "cell_type": "code",
   "execution_count": 104,
   "id": "7376ef91-854e-403a-aea6-57597b3abdf1",
   "metadata": {},
   "outputs": [
    {
     "data": {
      "text/plain": [
       "4.0    133\n",
       "8.0      1\n",
       "6.0      1\n",
       "Name: processor_core, dtype: int64"
      ]
     },
     "execution_count": 104,
     "metadata": {},
     "output_type": "execute_result"
    }
   ],
   "source": [
    "data['processor_core'].value_counts()"
   ]
  },
  {
   "cell_type": "code",
   "execution_count": null,
   "id": "e3c575f5-0eba-44f3-a600-15bf70e42ab6",
   "metadata": {},
   "outputs": [],
   "source": []
  },
  {
   "cell_type": "markdown",
   "id": "b56996a7-651b-470c-be5a-019544bf1e19",
   "metadata": {},
   "source": [
    "# processor ram"
   ]
  },
  {
   "cell_type": "code",
   "execution_count": 108,
   "id": "086f8f78-9bf7-468e-b93a-300978a4197b",
   "metadata": {},
   "outputs": [
    {
     "data": {
      "text/plain": [
       "54.17130144605117"
      ]
     },
     "execution_count": 108,
     "metadata": {},
     "output_type": "execute_result"
    }
   ],
   "source": [
    "data['processor_ram'].isna().mean() * 100"
   ]
  },
  {
   "cell_type": "markdown",
   "id": "5d425534-4189-439d-ac8f-a730af9ddd05",
   "metadata": {},
   "source": [
    "-- 55% data in processor ram is missing\n",
    "- also, the end goal of the project is making a TV price predictor, we won't ask user to input processor RAM of TV, because it's not  a very important feature, so we can drop it"
   ]
  },
  {
   "cell_type": "code",
   "execution_count": null,
   "id": "27d24cfa-dac3-4f32-8acf-da9eeaa8e56c",
   "metadata": {},
   "outputs": [],
   "source": []
  },
  {
   "cell_type": "code",
   "execution_count": 113,
   "id": "45a72266-7e3f-45e4-984a-df69b724c505",
   "metadata": {},
   "outputs": [
    {
     "data": {
      "image/png": "[encoded data removed]",
      "text/plain": [
       "<Figure size 640x480 with 1 Axes>"
      ]
     },
     "metadata": {},
     "output_type": "display_data"
    }
   ],
   "source": [
    "data.groupby('processor_ram')['price'].median().plot(kind='bar')\n",
    "plt.show()"
   ]
  },
  {
   "cell_type": "code",
   "execution_count": null,
   "id": "8191ff2a-51be-4594-a19a-b3f3a654dc60",
   "metadata": {},
   "outputs": [],
   "source": []
  },
  {
   "cell_type": "markdown",
   "id": "b1b955a8-ec2d-444d-bd9a-fdbd0700c786",
   "metadata": {},
   "source": [
    "# processor inbuilt storage"
   ]
  },
  {
   "cell_type": "code",
   "execution_count": 115,
   "id": "1b29eb6c-a54c-429c-aa11-06ee735a248f",
   "metadata": {},
   "outputs": [
    {
     "data": {
      "text/plain": [
       "53.83759733036707"
      ]
     },
     "execution_count": 115,
     "metadata": {},
     "output_type": "execute_result"
    }
   ],
   "source": [
    "data['processor_inbuilt_storage'].isna().mean()*100"
   ]
  },
  {
   "cell_type": "markdown",
   "id": "6fc69256-23ed-4718-932f-feb813eeb28a",
   "metadata": {},
   "source": [
    "- 54% data is missing in processor inbuilt storage"
   ]
  },
  {
   "cell_type": "code",
   "execution_count": null,
   "id": "f4bba07c-7281-40fc-a966-f360a9275f29",
   "metadata": {},
   "outputs": [],
   "source": []
  },
  {
   "cell_type": "markdown",
   "id": "5fd8efad-e9f2-4556-b85a-ec9b533787f6",
   "metadata": {},
   "source": [
    "# num_Speakers"
   ]
  },
  {
   "cell_type": "code",
   "execution_count": 116,
   "id": "ee019ff7-6f0c-4c7d-a7db-9dc5fda719e0",
   "metadata": {},
   "outputs": [
    {
     "data": {
      "text/plain": [
       "12.235817575083425"
      ]
     },
     "execution_count": 116,
     "metadata": {},
     "output_type": "execute_result"
    }
   ],
   "source": [
    "data['num_speakers'].isna().mean()*100"
   ]
  },
  {
   "cell_type": "code",
   "execution_count": 118,
   "id": "8f4ae0ce-165e-4d92-8716-48bc61962921",
   "metadata": {},
   "outputs": [
    {
     "data": {
      "image/png": "[encoded data removed]",
      "text/plain": [
       "<Figure size 640x480 with 1 Axes>"
      ]
     },
     "metadata": {},
     "output_type": "display_data"
    }
   ],
   "source": [
    "sns.countplot(data['num_speakers']);"
   ]
  },
  {
   "cell_type": "code",
   "execution_count": 119,
   "id": "6510df49-0934-4237-a452-7e142da4e8ee",
   "metadata": {},
   "outputs": [
    {
     "data": {
      "text/html": [
       "<div>\n",
       "<style scoped>\n",
       "    .dataframe tbody tr th:only-of-type {\n",
       "        vertical-align: middle;\n",
       "    }\n",
       "\n",
       "    .dataframe tbody tr th {\n",
       "        vertical-align: top;\n",
       "    }\n",
       "\n",
       "    .dataframe thead th {\n",
       "        text-align: right;\n",
       "    }\n",
       "</style>\n",
       "<table border=\"1\" class=\"dataframe\">\n",
       "  <thead>\n",
       "    <tr style=\"text-align: right;\">\n",
       "      <th></th>\n",
       "      <th>brand</th>\n",
       "      <th>tv_type</th>\n",
       "      <th>resolution</th>\n",
       "      <th>resolution_type</th>\n",
       "      <th>x_resolution</th>\n",
       "      <th>y_resolution</th>\n",
       "      <th>screen_size</th>\n",
       "      <th>processor_core</th>\n",
       "      <th>processor_ram</th>\n",
       "      <th>processor_inbuilt_storage</th>\n",
       "      <th>...</th>\n",
       "      <th>hd</th>\n",
       "      <th>has_wifi</th>\n",
       "      <th>has_ethernet</th>\n",
       "      <th>is_smart</th>\n",
       "      <th>is_ultra_slim</th>\n",
       "      <th>viewing_angle</th>\n",
       "      <th>num_hdmi_ports</th>\n",
       "      <th>num_usb_ports</th>\n",
       "      <th>rating</th>\n",
       "      <th>price</th>\n",
       "    </tr>\n",
       "  </thead>\n",
       "  <tbody>\n",
       "    <tr>\n",
       "      <th>157</th>\n",
       "      <td>oneplus</td>\n",
       "      <td>qled</td>\n",
       "      <td>4K Resolution</td>\n",
       "      <td>4K Resolution</td>\n",
       "      <td>3840.0</td>\n",
       "      <td>2160.0</td>\n",
       "      <td>65.0</td>\n",
       "      <td>NaN</td>\n",
       "      <td>3.0</td>\n",
       "      <td>32.0</td>\n",
       "      <td>...</td>\n",
       "      <td>Ultra HD</td>\n",
       "      <td>1.0</td>\n",
       "      <td>1.0</td>\n",
       "      <td>1.0</td>\n",
       "      <td>1.0</td>\n",
       "      <td>178.0</td>\n",
       "      <td>3.0</td>\n",
       "      <td>2.0</td>\n",
       "      <td>84.0</td>\n",
       "      <td>99999.0</td>\n",
       "    </tr>\n",
       "    <tr>\n",
       "      <th>440</th>\n",
       "      <td>tcl</td>\n",
       "      <td>qd mini led</td>\n",
       "      <td>4K Resolution</td>\n",
       "      <td>4K Resolution</td>\n",
       "      <td>3840.0</td>\n",
       "      <td>2160.0</td>\n",
       "      <td>85.0</td>\n",
       "      <td>NaN</td>\n",
       "      <td>4.0</td>\n",
       "      <td>64.0</td>\n",
       "      <td>...</td>\n",
       "      <td>Ultra HD</td>\n",
       "      <td>1.0</td>\n",
       "      <td>0.0</td>\n",
       "      <td>1.0</td>\n",
       "      <td>0.0</td>\n",
       "      <td>NaN</td>\n",
       "      <td>NaN</td>\n",
       "      <td>NaN</td>\n",
       "      <td>62.0</td>\n",
       "      <td>194499.0</td>\n",
       "    </tr>\n",
       "    <tr>\n",
       "      <th>441</th>\n",
       "      <td>tcl</td>\n",
       "      <td>qd mini led</td>\n",
       "      <td>4K Resolution</td>\n",
       "      <td>4K Resolution</td>\n",
       "      <td>3840.0</td>\n",
       "      <td>2160.0</td>\n",
       "      <td>65.0</td>\n",
       "      <td>NaN</td>\n",
       "      <td>4.0</td>\n",
       "      <td>64.0</td>\n",
       "      <td>...</td>\n",
       "      <td>Ultra HD</td>\n",
       "      <td>1.0</td>\n",
       "      <td>0.0</td>\n",
       "      <td>1.0</td>\n",
       "      <td>0.0</td>\n",
       "      <td>NaN</td>\n",
       "      <td>NaN</td>\n",
       "      <td>NaN</td>\n",
       "      <td>60.0</td>\n",
       "      <td>102999.0</td>\n",
       "    </tr>\n",
       "    <tr>\n",
       "      <th>442</th>\n",
       "      <td>tcl</td>\n",
       "      <td>qd mini led</td>\n",
       "      <td>4K Resolution</td>\n",
       "      <td>4K Resolution</td>\n",
       "      <td>3840.0</td>\n",
       "      <td>2160.0</td>\n",
       "      <td>75.0</td>\n",
       "      <td>NaN</td>\n",
       "      <td>4.0</td>\n",
       "      <td>64.0</td>\n",
       "      <td>...</td>\n",
       "      <td>Ultra HD</td>\n",
       "      <td>1.0</td>\n",
       "      <td>0.0</td>\n",
       "      <td>1.0</td>\n",
       "      <td>0.0</td>\n",
       "      <td>NaN</td>\n",
       "      <td>NaN</td>\n",
       "      <td>NaN</td>\n",
       "      <td>61.0</td>\n",
       "      <td>137299.0</td>\n",
       "    </tr>\n",
       "    <tr>\n",
       "      <th>760</th>\n",
       "      <td>others</td>\n",
       "      <td>led</td>\n",
       "      <td>4K Resolution</td>\n",
       "      <td>4K Resolution</td>\n",
       "      <td>3840.0</td>\n",
       "      <td>2160.0</td>\n",
       "      <td>65.0</td>\n",
       "      <td>8.0</td>\n",
       "      <td>6.0</td>\n",
       "      <td>64.0</td>\n",
       "      <td>...</td>\n",
       "      <td>Ultra HD</td>\n",
       "      <td>1.0</td>\n",
       "      <td>1.0</td>\n",
       "      <td>1.0</td>\n",
       "      <td>0.0</td>\n",
       "      <td>178.0</td>\n",
       "      <td>3.0</td>\n",
       "      <td>2.0</td>\n",
       "      <td>86.0</td>\n",
       "      <td>75990.0</td>\n",
       "    </tr>\n",
       "    <tr>\n",
       "      <th>832</th>\n",
       "      <td>hisense</td>\n",
       "      <td>led</td>\n",
       "      <td>4K Resolution</td>\n",
       "      <td>4K Resolution</td>\n",
       "      <td>3840.0</td>\n",
       "      <td>2160.0</td>\n",
       "      <td>50.0</td>\n",
       "      <td>NaN</td>\n",
       "      <td>2.0</td>\n",
       "      <td>16.0</td>\n",
       "      <td>...</td>\n",
       "      <td>Ultra HD</td>\n",
       "      <td>1.0</td>\n",
       "      <td>1.0</td>\n",
       "      <td>1.0</td>\n",
       "      <td>0.0</td>\n",
       "      <td>178.0</td>\n",
       "      <td>3.0</td>\n",
       "      <td>2.0</td>\n",
       "      <td>73.0</td>\n",
       "      <td>34999.0</td>\n",
       "    </tr>\n",
       "    <tr>\n",
       "      <th>833</th>\n",
       "      <td>hisense</td>\n",
       "      <td>led</td>\n",
       "      <td>4K Resolution</td>\n",
       "      <td>4K Resolution</td>\n",
       "      <td>3840.0</td>\n",
       "      <td>2160.0</td>\n",
       "      <td>55.0</td>\n",
       "      <td>NaN</td>\n",
       "      <td>2.0</td>\n",
       "      <td>16.0</td>\n",
       "      <td>...</td>\n",
       "      <td>Ultra HD</td>\n",
       "      <td>1.0</td>\n",
       "      <td>1.0</td>\n",
       "      <td>1.0</td>\n",
       "      <td>0.0</td>\n",
       "      <td>178.0</td>\n",
       "      <td>3.0</td>\n",
       "      <td>2.0</td>\n",
       "      <td>74.0</td>\n",
       "      <td>37999.0</td>\n",
       "    </tr>\n",
       "    <tr>\n",
       "      <th>946</th>\n",
       "      <td>xiaomi</td>\n",
       "      <td>oled</td>\n",
       "      <td>4K Resolution</td>\n",
       "      <td>4K Resolution</td>\n",
       "      <td>3840.0</td>\n",
       "      <td>2160.0</td>\n",
       "      <td>55.0</td>\n",
       "      <td>4.0</td>\n",
       "      <td>3.0</td>\n",
       "      <td>32.0</td>\n",
       "      <td>...</td>\n",
       "      <td>Ultra HD</td>\n",
       "      <td>1.0</td>\n",
       "      <td>1.0</td>\n",
       "      <td>1.0</td>\n",
       "      <td>0.0</td>\n",
       "      <td>178.0</td>\n",
       "      <td>3.0</td>\n",
       "      <td>2.0</td>\n",
       "      <td>80.0</td>\n",
       "      <td>99999.0</td>\n",
       "    </tr>\n",
       "    <tr>\n",
       "      <th>947</th>\n",
       "      <td>samsung</td>\n",
       "      <td>qled</td>\n",
       "      <td>4K Resolution</td>\n",
       "      <td>4K Resolution</td>\n",
       "      <td>3840.0</td>\n",
       "      <td>2160.0</td>\n",
       "      <td>75.0</td>\n",
       "      <td>NaN</td>\n",
       "      <td>NaN</td>\n",
       "      <td>NaN</td>\n",
       "      <td>...</td>\n",
       "      <td>Ultra HD</td>\n",
       "      <td>1.0</td>\n",
       "      <td>1.0</td>\n",
       "      <td>1.0</td>\n",
       "      <td>0.0</td>\n",
       "      <td>178.0</td>\n",
       "      <td>4.0</td>\n",
       "      <td>2.0</td>\n",
       "      <td>83.0</td>\n",
       "      <td>389990.0</td>\n",
       "    </tr>\n",
       "  </tbody>\n",
       "</table>\n",
       "<p>9 rows × 22 columns</p>\n",
       "</div>"
      ],
      "text/plain": [
       "       brand      tv_type     resolution resolution_type  x_resolution  \\\n",
       "157  oneplus         qled  4K Resolution   4K Resolution        3840.0   \n",
       "440      tcl  qd mini led  4K Resolution   4K Resolution        3840.0   \n",
       "441      tcl  qd mini led  4K Resolution   4K Resolution        3840.0   \n",
       "442      tcl  qd mini led  4K Resolution   4K Resolution        3840.0   \n",
       "760   others          led  4K Resolution   4K Resolution        3840.0   \n",
       "832  hisense          led  4K Resolution   4K Resolution        3840.0   \n",
       "833  hisense          led  4K Resolution   4K Resolution        3840.0   \n",
       "946   xiaomi         oled  4K Resolution   4K Resolution        3840.0   \n",
       "947  samsung         qled  4K Resolution   4K Resolution        3840.0   \n",
       "\n",
       "     y_resolution  screen_size  processor_core  processor_ram  \\\n",
       "157        2160.0         65.0             NaN            3.0   \n",
       "440        2160.0         85.0             NaN            4.0   \n",
       "441        2160.0         65.0             NaN            4.0   \n",
       "442        2160.0         75.0             NaN            4.0   \n",
       "760        2160.0         65.0             8.0            6.0   \n",
       "832        2160.0         50.0             NaN            2.0   \n",
       "833        2160.0         55.0             NaN            2.0   \n",
       "946        2160.0         55.0             4.0            3.0   \n",
       "947        2160.0         75.0             NaN            NaN   \n",
       "\n",
       "     processor_inbuilt_storage  ...        hd  has_wifi has_ethernet  \\\n",
       "157                       32.0  ...  Ultra HD       1.0          1.0   \n",
       "440                       64.0  ...  Ultra HD       1.0          0.0   \n",
       "441                       64.0  ...  Ultra HD       1.0          0.0   \n",
       "442                       64.0  ...  Ultra HD       1.0          0.0   \n",
       "760                       64.0  ...  Ultra HD       1.0          1.0   \n",
       "832                       16.0  ...  Ultra HD       1.0          1.0   \n",
       "833                       16.0  ...  Ultra HD       1.0          1.0   \n",
       "946                       32.0  ...  Ultra HD       1.0          1.0   \n",
       "947                        NaN  ...  Ultra HD       1.0          1.0   \n",
       "\n",
       "     is_smart  is_ultra_slim  viewing_angle  num_hdmi_ports  num_usb_ports  \\\n",
       "157       1.0            1.0          178.0             3.0            2.0   \n",
       "440       1.0            0.0            NaN             NaN            NaN   \n",
       "441       1.0            0.0            NaN             NaN            NaN   \n",
       "442       1.0            0.0            NaN             NaN            NaN   \n",
       "760       1.0            0.0          178.0             3.0            2.0   \n",
       "832       1.0            0.0          178.0             3.0            2.0   \n",
       "833       1.0            0.0          178.0             3.0            2.0   \n",
       "946       1.0            0.0          178.0             3.0            2.0   \n",
       "947       1.0            0.0          178.0             4.0            2.0   \n",
       "\n",
       "     rating     price  \n",
       "157    84.0   99999.0  \n",
       "440    62.0  194499.0  \n",
       "441    60.0  102999.0  \n",
       "442    61.0  137299.0  \n",
       "760    86.0   75990.0  \n",
       "832    73.0   34999.0  \n",
       "833    74.0   37999.0  \n",
       "946    80.0   99999.0  \n",
       "947    83.0  389990.0  \n",
       "\n",
       "[9 rows x 22 columns]"
      ]
     },
     "execution_count": 119,
     "metadata": {},
     "output_type": "execute_result"
    }
   ],
   "source": [
    "data[data['num_speakers'] > 5]"
   ]
  },
  {
   "cell_type": "markdown",
   "id": "2930680a-aaed-465d-b2dc-f4b6cc44b926",
   "metadata": {},
   "source": [
    "- 12.2% null values\n",
    "- majority of the TVs have <5 speakers (with 2 speakers beign the most frequent category)"
   ]
  },
  {
   "cell_type": "code",
   "execution_count": null,
   "id": "3b3713bc-46c4-4401-9e7b-8bca0ade8cee",
   "metadata": {},
   "outputs": [],
   "source": []
  },
  {
   "cell_type": "markdown",
   "id": "c33b6777-0557-40aa-8d09-d89a6a8bb2b1",
   "metadata": {},
   "source": [
    "# speaker output"
   ]
  },
  {
   "cell_type": "code",
   "execution_count": 120,
   "id": "8ecf27cb-a183-4f6c-a4fd-826a2b234610",
   "metadata": {},
   "outputs": [
    {
     "data": {
      "text/plain": [
       "3.5595105672969964"
      ]
     },
     "execution_count": 120,
     "metadata": {},
     "output_type": "execute_result"
    }
   ],
   "source": [
    "data['speaker_output'].isna().mean()*100"
   ]
  },
  {
   "cell_type": "code",
   "execution_count": 123,
   "id": "b5ca6eba-540d-42b9-ac4b-605ff9f69cec",
   "metadata": {},
   "outputs": [
    {
     "data": {
      "image/png": "[encoded data removed]",
      "text/plain": [
       "<Figure size 1500x700 with 1 Axes>"
      ]
     },
     "metadata": {},
     "output_type": "display_data"
    }
   ],
   "source": [
    "plt.figure(figsize=(15,7))\n",
    "sns.countplot(data['speaker_output'])\n",
    "plt.xticks(rotation='vertical')\n",
    "plt.show()"
   ]
  },
  {
   "cell_type": "markdown",
   "id": "66d78bc7-a785-4684-9677-d29c4b14bda3",
   "metadata": {},
   "source": [
    "- majority of the speakers have speaker output of 20W.\n",
    "- speaker output > 60W is relatively rare\n",
    "- 3.6% null values"
   ]
  },
  {
   "cell_type": "code",
   "execution_count": null,
   "id": "7df7069d-dd1f-465f-b9f7-9940308d1eab",
   "metadata": {},
   "outputs": [],
   "source": []
  },
  {
   "cell_type": "markdown",
   "id": "4c8e8cf6-527e-4831-81ad-e8b1d3abe2fb",
   "metadata": {},
   "source": [
    "# hd"
   ]
  },
  {
   "cell_type": "code",
   "execution_count": 125,
   "id": "789789f5-dd62-411e-b7fb-d9c553356674",
   "metadata": {},
   "outputs": [
    {
     "data": {
      "text/plain": [
       "0.11123470522803114"
      ]
     },
     "execution_count": 125,
     "metadata": {},
     "output_type": "execute_result"
    }
   ],
   "source": [
    "data['hd'].isna().mean()*100"
   ]
  },
  {
   "cell_type": "code",
   "execution_count": 127,
   "id": "8d4a656c-b73f-40f8-8e64-c36c60ddb037",
   "metadata": {},
   "outputs": [
    {
     "data": {
      "image/png": "[encoded data removed]",
      "text/plain": [
       "<Figure size 640x480 with 1 Axes>"
      ]
     },
     "metadata": {},
     "output_type": "display_data"
    }
   ],
   "source": [
    "sns.countplot(data['hd'])\n",
    "plt.xticks(rotation='vertical')\n",
    "plt.show()"
   ]
  },
  {
   "cell_type": "markdown",
   "id": "0d7397da-56b8-4565-96ca-bc698f88b70e",
   "metadata": {},
   "source": [
    "- 0.11% null values\n",
    "- majority of the TVs are Ultra HD"
   ]
  },
  {
   "cell_type": "code",
   "execution_count": null,
   "id": "2f4dd04c-cd3e-47a4-a09e-288df48a0d8d",
   "metadata": {},
   "outputs": [],
   "source": []
  },
  {
   "cell_type": "markdown",
   "id": "89a17b16-44c4-41df-85cb-62bf56a660d7",
   "metadata": {},
   "source": [
    "# has wifi"
   ]
  },
  {
   "cell_type": "code",
   "execution_count": 132,
   "id": "e7fc7c54-c915-4f2e-b7e5-1da6d16365e8",
   "metadata": {},
   "outputs": [
    {
     "data": {
      "text/plain": [
       "3.337041156840934"
      ]
     },
     "execution_count": 132,
     "metadata": {},
     "output_type": "execute_result"
    }
   ],
   "source": [
    "data['has_wifi'].isna().mean()*100"
   ]
  },
  {
   "cell_type": "code",
   "execution_count": 129,
   "id": "bcc9e60a-9de7-421c-a19a-ae155e323cb4",
   "metadata": {},
   "outputs": [
    {
     "data": {
      "image/png": "[encoded data removed]",
      "text/plain": [
       "<Figure size 640x480 with 1 Axes>"
      ]
     },
     "metadata": {},
     "output_type": "display_data"
    }
   ],
   "source": [
    "sns.countplot(data['has_wifi'])\n",
    "plt.xticks(rotation='vertical')\n",
    "plt.show()"
   ]
  },
  {
   "cell_type": "code",
   "execution_count": 131,
   "id": "e50e3225-a7c0-43ca-9b51-f5c43d44f3ea",
   "metadata": {},
   "outputs": [
    {
     "data": {
      "text/plain": [
       "1.0    0.956618\n",
       "0.0    0.010011\n",
       "Name: has_wifi, dtype: float64"
      ]
     },
     "execution_count": 131,
     "metadata": {},
     "output_type": "execute_result"
    }
   ],
   "source": [
    "data['has_wifi'].value_counts()/len(data)"
   ]
  },
  {
   "cell_type": "markdown",
   "id": "2170d903-f5c0-4f30-932b-59ca2487056a",
   "metadata": {},
   "source": [
    "- around 95.6% TVs have wifi\n",
    "- 3.34% missing values"
   ]
  },
  {
   "cell_type": "code",
   "execution_count": null,
   "id": "89f1e4f6-b76b-48ce-9e04-e84af3694de1",
   "metadata": {},
   "outputs": [],
   "source": []
  },
  {
   "cell_type": "markdown",
   "id": "61302f0f-5a76-479a-ae60-f5d12d9104d2",
   "metadata": {},
   "source": [
    "# has ethernet"
   ]
  },
  {
   "cell_type": "code",
   "execution_count": 133,
   "id": "4dd438b1-46bc-4f76-a030-8ea5090ba79a",
   "metadata": {},
   "outputs": [
    {
     "data": {
      "text/plain": [
       "3.337041156840934"
      ]
     },
     "execution_count": 133,
     "metadata": {},
     "output_type": "execute_result"
    }
   ],
   "source": [
    "data['has_ethernet'].isna().mean()*100"
   ]
  },
  {
   "cell_type": "code",
   "execution_count": 134,
   "id": "3bfa403c-664c-4339-90c8-f7a41533bc64",
   "metadata": {},
   "outputs": [
    {
     "data": {
      "image/png": "[encoded data removed]",
      "text/plain": [
       "<Figure size 640x480 with 1 Axes>"
      ]
     },
     "metadata": {},
     "output_type": "display_data"
    }
   ],
   "source": [
    "sns.countplot(data['has_ethernet'])\n",
    "plt.xticks(rotation='vertical')\n",
    "plt.show()"
   ]
  },
  {
   "cell_type": "code",
   "execution_count": 135,
   "id": "9312c732-f2f7-4a73-b96b-298230d86d73",
   "metadata": {},
   "outputs": [
    {
     "data": {
      "text/plain": [
       "1.0    0.799778\n",
       "0.0    0.166852\n",
       "Name: has_ethernet, dtype: float64"
      ]
     },
     "execution_count": 135,
     "metadata": {},
     "output_type": "execute_result"
    }
   ],
   "source": [
    "data['has_ethernet'].value_counts()/len(data)"
   ]
  },
  {
   "cell_type": "markdown",
   "id": "3b5d96c7-1215-491c-a5f5-8c52aa2b2cc3",
   "metadata": {},
   "source": [
    "- around 80% TVs have ethernet\n",
    "- 3.34% values are null"
   ]
  },
  {
   "cell_type": "code",
   "execution_count": null,
   "id": "124e892d-81ea-418a-b900-5019051f0956",
   "metadata": {},
   "outputs": [],
   "source": []
  },
  {
   "cell_type": "markdown",
   "id": "3b743db3-e510-4e6f-b01e-dd79209a298a",
   "metadata": {},
   "source": [
    "# is_smart"
   ]
  },
  {
   "cell_type": "code",
   "execution_count": 137,
   "id": "46f5059b-cd74-4bd6-998b-ef39a37a55dd",
   "metadata": {},
   "outputs": [
    {
     "data": {
      "text/plain": [
       "0.0"
      ]
     },
     "execution_count": 137,
     "metadata": {},
     "output_type": "execute_result"
    }
   ],
   "source": [
    "data['is_smart'].isna().mean()*100"
   ]
  },
  {
   "cell_type": "code",
   "execution_count": 138,
   "id": "085f00ab-fed9-4a64-aff9-c1fb0c047e9b",
   "metadata": {},
   "outputs": [
    {
     "data": {
      "image/png": "[encoded data removed]",
      "text/plain": [
       "<Figure size 640x480 with 1 Axes>"
      ]
     },
     "metadata": {},
     "output_type": "display_data"
    }
   ],
   "source": [
    "sns.countplot(data['is_smart'])\n",
    "plt.xticks(rotation='vertical')\n",
    "plt.show()"
   ]
  },
  {
   "cell_type": "code",
   "execution_count": 139,
   "id": "0e625774-39f7-4240-9ab6-d25c1430423a",
   "metadata": {},
   "outputs": [
    {
     "data": {
      "text/plain": [
       "1.0    0.973304\n",
       "0.0    0.026696\n",
       "Name: is_smart, dtype: float64"
      ]
     },
     "execution_count": 139,
     "metadata": {},
     "output_type": "execute_result"
    }
   ],
   "source": [
    "data['is_smart'].value_counts()/len(data)"
   ]
  },
  {
   "cell_type": "markdown",
   "id": "d884b09c-2a21-46ec-b8bf-f4bf61ed780d",
   "metadata": {},
   "source": [
    "- no null values\n",
    "- 97.3%^ TVs are smart"
   ]
  },
  {
   "cell_type": "code",
   "execution_count": null,
   "id": "cea5a44f-da75-4def-b796-c75f8b8cac5b",
   "metadata": {},
   "outputs": [],
   "source": []
  },
  {
   "cell_type": "markdown",
   "id": "ef33e5ec-414c-41dd-9063-663164dc07e2",
   "metadata": {},
   "source": [
    "# ultra slim"
   ]
  },
  {
   "cell_type": "code",
   "execution_count": 142,
   "id": "0c2b6575-32f0-4bb9-a2fe-ec3d1e80b918",
   "metadata": {},
   "outputs": [
    {
     "data": {
      "text/plain": [
       "27.697441601779754"
      ]
     },
     "execution_count": 142,
     "metadata": {},
     "output_type": "execute_result"
    }
   ],
   "source": [
    "data['is_ultra_slim'].isna().mean()*100"
   ]
  },
  {
   "cell_type": "code",
   "execution_count": 143,
   "id": "29f164f6-be06-425f-bd34-74f32f768000",
   "metadata": {},
   "outputs": [
    {
     "data": {
      "image/png": "[encoded data removed]",
      "text/plain": [
       "<Figure size 640x480 with 1 Axes>"
      ]
     },
     "metadata": {},
     "output_type": "display_data"
    }
   ],
   "source": [
    "sns.countplot(data['is_ultra_slim'])\n",
    "plt.xticks(rotation='vertical')\n",
    "plt.show()"
   ]
  },
  {
   "cell_type": "code",
   "execution_count": 145,
   "id": "30cc40ef-9639-4aea-8889-e8e21da1d64f",
   "metadata": {},
   "outputs": [
    {
     "data": {
      "text/plain": [
       "0.0    0.657397\n",
       "1.0    0.065628\n",
       "Name: is_ultra_slim, dtype: float64"
      ]
     },
     "execution_count": 145,
     "metadata": {},
     "output_type": "execute_result"
    }
   ],
   "source": [
    "data['is_ultra_slim'].value_counts()/len(data)"
   ]
  },
  {
   "cell_type": "markdown",
   "id": "e0bb1d77-554f-4548-82f6-9cdf88826e6e",
   "metadata": {},
   "source": [
    "- 27.7% null values\n",
    "- 65% TVs are not ultra slim"
   ]
  },
  {
   "cell_type": "code",
   "execution_count": null,
   "id": "e7b79955-9ac2-4843-9531-daeec9cd13ab",
   "metadata": {},
   "outputs": [],
   "source": []
  },
  {
   "cell_type": "markdown",
   "id": "82e620aa-4a12-4bd8-9796-5b76d7af7059",
   "metadata": {},
   "source": [
    "# viewing angle"
   ]
  },
  {
   "cell_type": "code",
   "execution_count": 146,
   "id": "af583c82-8efe-42bb-be67-5c296e46b2a2",
   "metadata": {},
   "outputs": [
    {
     "data": {
      "text/plain": [
       "30.478309232480534"
      ]
     },
     "execution_count": 146,
     "metadata": {},
     "output_type": "execute_result"
    }
   ],
   "source": [
    "data['viewing_angle'].isna().mean()*100"
   ]
  },
  {
   "cell_type": "code",
   "execution_count": 147,
   "id": "8538e753-72fa-4d7c-96fa-340ef5aa94c4",
   "metadata": {},
   "outputs": [
    {
     "data": {
      "image/png": "[encoded data removed]",
      "text/plain": [
       "<Figure size 640x480 with 1 Axes>"
      ]
     },
     "metadata": {},
     "output_type": "display_data"
    }
   ],
   "source": [
    "sns.countplot(data['viewing_angle'])\n",
    "plt.xticks(rotation='vertical')\n",
    "plt.show()"
   ]
  },
  {
   "cell_type": "code",
   "execution_count": 149,
   "id": "32ab49ee-583e-49c1-be95-0ef6b2e1cb87",
   "metadata": {},
   "outputs": [
    {
     "data": {
      "text/plain": [
       "178.0    0.689655\n",
       "179.0    0.002225\n",
       "180.0    0.001112\n",
       "8.0      0.001112\n",
       "170.0    0.001112\n",
       "Name: viewing_angle, dtype: float64"
      ]
     },
     "execution_count": 149,
     "metadata": {},
     "output_type": "execute_result"
    }
   ],
   "source": [
    "data['viewing_angle'].value_counts()/len(data)"
   ]
  },
  {
   "cell_type": "markdown",
   "id": "315554dd-b39a-48e5-8f3a-025211e0bb25",
   "metadata": {},
   "source": [
    "- 30.4% null values \n",
    "- among non- null values, almost all the TVs ahve a viewing angle of 178 degrees"
   ]
  },
  {
   "cell_type": "code",
   "execution_count": null,
   "id": "7223677c-9329-452a-a2c0-ac642155bafc",
   "metadata": {},
   "outputs": [],
   "source": []
  },
  {
   "cell_type": "markdown",
   "id": "dc2898d0-1ba9-4c0c-aad6-22990055a1dd",
   "metadata": {},
   "source": [
    "# num_hdmi_ports"
   ]
  },
  {
   "cell_type": "code",
   "execution_count": 150,
   "id": "34b9596d-bf46-4797-9a31-1fdef68dbd13",
   "metadata": {},
   "outputs": [
    {
     "data": {
      "text/plain": [
       "3.0    448\n",
       "2.0    242\n",
       "4.0    176\n",
       "1.0     20\n",
       "Name: num_hdmi_ports, dtype: int64"
      ]
     },
     "execution_count": 150,
     "metadata": {},
     "output_type": "execute_result"
    }
   ],
   "source": [
    "data['num_hdmi_ports'].value_counts()"
   ]
  },
  {
   "cell_type": "code",
   "execution_count": 152,
   "id": "310814f7-7c07-4c47-87df-a70d2e054dd0",
   "metadata": {},
   "outputs": [
    {
     "data": {
      "image/png": "[encoded data removed]",
      "text/plain": [
       "<Figure size 640x480 with 1 Axes>"
      ]
     },
     "metadata": {},
     "output_type": "display_data"
    }
   ],
   "source": [
    "sns.countplot(data['num_hdmi_ports'])\n",
    "plt.xticks(rotation='vertical')\n",
    "plt.show()"
   ]
  },
  {
   "cell_type": "code",
   "execution_count": 153,
   "id": "30ffa2f4-70ec-47db-ac46-1c1718606ec7",
   "metadata": {},
   "outputs": [
    {
     "data": {
      "text/plain": [
       "1.4460511679644048"
      ]
     },
     "execution_count": 153,
     "metadata": {},
     "output_type": "execute_result"
    }
   ],
   "source": [
    "data['num_hdmi_ports'].isna().mean() * 100"
   ]
  },
  {
   "cell_type": "markdown",
   "id": "f87c9ed2-dc8c-4ec4-8e13-a2d78dd5b76b",
   "metadata": {},
   "source": [
    "- 1.4% missing values\n",
    "- majority of the TVs have 3 HDMI ports"
   ]
  },
  {
   "cell_type": "code",
   "execution_count": null,
   "id": "4acc1aa8-583a-4657-915a-c3a14ed9ef12",
   "metadata": {},
   "outputs": [],
   "source": []
  },
  {
   "cell_type": "markdown",
   "id": "75adbac6-b94d-4c77-99b1-68027a784fe4",
   "metadata": {},
   "source": [
    "# num_usb_ports"
   ]
  },
  {
   "cell_type": "code",
   "execution_count": 154,
   "id": "9a926318-9bee-460b-abac-a0cdb9e866b9",
   "metadata": {},
   "outputs": [
    {
     "data": {
      "text/plain": [
       "1.4460511679644048"
      ]
     },
     "execution_count": 154,
     "metadata": {},
     "output_type": "execute_result"
    }
   ],
   "source": [
    "data['num_usb_ports'].isna().mean() * 100"
   ]
  },
  {
   "cell_type": "code",
   "execution_count": 155,
   "id": "b42cc18d-f888-4692-a030-3774b3670dcc",
   "metadata": {},
   "outputs": [
    {
     "data": {
      "image/png": "[encoded data removed]",
      "text/plain": [
       "<Figure size 640x480 with 1 Axes>"
      ]
     },
     "metadata": {},
     "output_type": "display_data"
    }
   ],
   "source": [
    "sns.countplot(data['num_usb_ports'])\n",
    "plt.xticks(rotation='vertical')\n",
    "plt.show()"
   ]
  },
  {
   "cell_type": "markdown",
   "id": "ef4a25a5-c4bf-48fa-a43a-596a78d10c8b",
   "metadata": {},
   "source": [
    "- 1.4% missing values\n",
    "- majority of the TVs have 2 USB ports"
   ]
  },
  {
   "cell_type": "code",
   "execution_count": null,
   "id": "943921e4-490a-47d8-9393-73f60cfddb38",
   "metadata": {},
   "outputs": [],
   "source": []
  },
  {
   "cell_type": "markdown",
   "id": "e369be3d-7f11-401f-9e1a-c79a450d1bb4",
   "metadata": {},
   "source": [
    "# rating"
   ]
  },
  {
   "cell_type": "code",
   "execution_count": 157,
   "id": "a3fbf342-a0fc-432d-b5b3-a2e1e29f83f7",
   "metadata": {},
   "outputs": [
    {
     "data": {
      "text/plain": [
       "0.0"
      ]
     },
     "execution_count": 157,
     "metadata": {},
     "output_type": "execute_result"
    }
   ],
   "source": [
    "data['rating'].isna().mean() * 100"
   ]
  },
  {
   "cell_type": "code",
   "execution_count": 162,
   "id": "a552f0c2-1258-44e4-bcf4-ede3650682b6",
   "metadata": {},
   "outputs": [
    {
     "data": {
      "image/png": "[encoded data removed]",
      "text/plain": [
       "<Figure size 640x480 with 1 Axes>"
      ]
     },
     "metadata": {},
     "output_type": "display_data"
    }
   ],
   "source": [
    "# plt.figure(figsize=(15,7))\n",
    "sns.histplot(data['rating'], kde=True)\n",
    "plt.xticks(rotation='vertical')\n",
    "plt.show()"
   ]
  },
  {
   "cell_type": "code",
   "execution_count": 163,
   "id": "54049809-1635-4766-a93d-548036620c65",
   "metadata": {},
   "outputs": [
    {
     "data": {
      "text/plain": [
       "count    899.000000\n",
       "mean      63.921023\n",
       "std       13.869957\n",
       "min       26.000000\n",
       "25%       52.000000\n",
       "50%       68.000000\n",
       "75%       74.000000\n",
       "max       94.000000\n",
       "Name: rating, dtype: float64"
      ]
     },
     "execution_count": 163,
     "metadata": {},
     "output_type": "execute_result"
    }
   ],
   "source": [
    "data['rating'].describe()"
   ]
  },
  {
   "cell_type": "markdown",
   "id": "6308ce0f-c86c-495f-8279-c55a04118301",
   "metadata": {},
   "source": [
    "- no null values\n",
    "- bimodal distribution\n",
    "- mean rating: 63.9\n",
    "- mean and median rating are close which means that the data is not very skewed -> KDE shows that\n",
    "- highest rating is 94."
   ]
  },
  {
   "cell_type": "code",
   "execution_count": null,
   "id": "d5de75c6-66d9-4b70-96cc-4b74ae5cf7a5",
   "metadata": {},
   "outputs": [],
   "source": []
  },
  {
   "cell_type": "code",
   "execution_count": null,
   "id": "2cd2ba85-fdf6-4600-a144-34a77f18fd2d",
   "metadata": {},
   "outputs": [],
   "source": []
  },
  {
   "cell_type": "code",
   "execution_count": null,
   "id": "1dabfde4-6620-4173-bec2-af2764442e5f",
   "metadata": {},
   "outputs": [],
   "source": []
  },
  {
   "cell_type": "code",
   "execution_count": null,
   "id": "c7295400-6d8e-49bc-b805-e2dd44df8468",
   "metadata": {},
   "outputs": [],
   "source": []
  },
  {
   "cell_type": "code",
   "execution_count": null,
   "id": "5cd3918c-af3c-45fb-86ee-66912c49abac",
   "metadata": {},
   "outputs": [],
   "source": []
  }
 ],
 "metadata": {
  "kernelspec": {
   "display_name": "Python 3 (ipykernel)",
   "language": "python",
   "name": "python3"
  },
  "language_info": {
   "codemirror_mode": {
    "name": "ipython",
    "version": 3
   },
   "file_extension": ".py",
   "mimetype": "text/x-python",
   "name": "python",
   "nbconvert_exporter": "python",
   "pygments_lexer": "ipython3",
   "version": "3.9.13"
  }
 },
 "nbformat": 4,
 "nbformat_minor": 5
}
