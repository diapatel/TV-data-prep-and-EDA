{
 "cells": [
  {
   "cell_type": "code",
   "execution_count": 1,
   "id": "89dc834c-80da-4607-96c2-3fe381ffc488",
   "metadata": {},
   "outputs": [],
   "source": [
    "import pandas as pd\n",
    "import numpy as np"
   ]
  },
  {
   "cell_type": "code",
   "execution_count": null,
   "id": "10154f81-4fe1-4660-b17a-cbc2f3a0b6eb",
   "metadata": {},
   "outputs": [],
   "source": []
  },
  {
   "cell_type": "code",
   "execution_count": 124,
   "id": "4a1e4efe-1d0d-4474-b2dc-b4b599fcfd52",
   "metadata": {},
   "outputs": [
    {
     "data": {
      "text/html": [
       "<div>\n",
       "<style scoped>\n",
       "    .dataframe tbody tr th:only-of-type {\n",
       "        vertical-align: middle;\n",
       "    }\n",
       "\n",
       "    .dataframe tbody tr th {\n",
       "        vertical-align: top;\n",
       "    }\n",
       "\n",
       "    .dataframe thead th {\n",
       "        text-align: right;\n",
       "    }\n",
       "</style>\n",
       "<table border=\"1\" class=\"dataframe\">\n",
       "  <thead>\n",
       "    <tr style=\"text-align: right;\">\n",
       "      <th></th>\n",
       "      <th>Unnamed: 0</th>\n",
       "      <th>price</th>\n",
       "      <th>rating</th>\n",
       "      <th>screen_size</th>\n",
       "      <th>brand</th>\n",
       "      <th>tv_size</th>\n",
       "      <th>tv_type</th>\n",
       "      <th>resolution</th>\n",
       "      <th>pixels</th>\n",
       "      <th>hd</th>\n",
       "      <th>...</th>\n",
       "      <th>has_ethernet</th>\n",
       "      <th>num_speakers</th>\n",
       "      <th>speaker_output</th>\n",
       "      <th>processor_core</th>\n",
       "      <th>processor_ram</th>\n",
       "      <th>processor_inbuilt_storage</th>\n",
       "      <th>is_ultra_slim</th>\n",
       "      <th>viewing_angle</th>\n",
       "      <th>num_hdmi_ports</th>\n",
       "      <th>num_usb_ports</th>\n",
       "    </tr>\n",
       "  </thead>\n",
       "  <tbody>\n",
       "    <tr>\n",
       "      <th>0</th>\n",
       "      <td>0</td>\n",
       "      <td>14999</td>\n",
       "      <td>53</td>\n",
       "      <td>32.0</td>\n",
       "      <td>acer</td>\n",
       "      <td>32in</td>\n",
       "      <td>QLED TV</td>\n",
       "      <td>1366x768pixels</td>\n",
       "      <td>missing</td>\n",
       "      <td>HD</td>\n",
       "      <td>...</td>\n",
       "      <td>1.0</td>\n",
       "      <td>2</td>\n",
       "      <td>30.0</td>\n",
       "      <td>4.0</td>\n",
       "      <td>1.5</td>\n",
       "      <td>16.0</td>\n",
       "      <td>1.0</td>\n",
       "      <td>178.0</td>\n",
       "      <td>2.0</td>\n",
       "      <td>2.0</td>\n",
       "    </tr>\n",
       "    <tr>\n",
       "      <th>1</th>\n",
       "      <td>1</td>\n",
       "      <td>9999</td>\n",
       "      <td>53</td>\n",
       "      <td>43.0</td>\n",
       "      <td>xiaomi</td>\n",
       "      <td>43in</td>\n",
       "      <td>LED TV</td>\n",
       "      <td>Full HD</td>\n",
       "      <td>1920x1080pixels</td>\n",
       "      <td>Full HD</td>\n",
       "      <td>...</td>\n",
       "      <td>1.0</td>\n",
       "      <td>2</td>\n",
       "      <td>16.0</td>\n",
       "      <td>NaN</td>\n",
       "      <td>1.0</td>\n",
       "      <td>8.0</td>\n",
       "      <td>0.0</td>\n",
       "      <td>178.0</td>\n",
       "      <td>2.0</td>\n",
       "      <td>2.0</td>\n",
       "    </tr>\n",
       "    <tr>\n",
       "      <th>2</th>\n",
       "      <td>2</td>\n",
       "      <td>31990</td>\n",
       "      <td>65</td>\n",
       "      <td>43.0</td>\n",
       "      <td>lg</td>\n",
       "      <td>43in</td>\n",
       "      <td>LED TV</td>\n",
       "      <td>4K Resolution</td>\n",
       "      <td>3840x2160pixels</td>\n",
       "      <td>Ultra HD</td>\n",
       "      <td>...</td>\n",
       "      <td>1.0</td>\n",
       "      <td>2</td>\n",
       "      <td>20.0</td>\n",
       "      <td>NaN</td>\n",
       "      <td>NaN</td>\n",
       "      <td>NaN</td>\n",
       "      <td>NaN</td>\n",
       "      <td>NaN</td>\n",
       "      <td>3.0</td>\n",
       "      <td>2.0</td>\n",
       "    </tr>\n",
       "    <tr>\n",
       "      <th>3</th>\n",
       "      <td>3</td>\n",
       "      <td>38900</td>\n",
       "      <td>63</td>\n",
       "      <td>43.0</td>\n",
       "      <td>samsung</td>\n",
       "      <td>43in</td>\n",
       "      <td>LED TV</td>\n",
       "      <td>4K Resolution</td>\n",
       "      <td>3840x2160pixels</td>\n",
       "      <td>Ultra HD</td>\n",
       "      <td>...</td>\n",
       "      <td>1.0</td>\n",
       "      <td>2</td>\n",
       "      <td>20.0</td>\n",
       "      <td>NaN</td>\n",
       "      <td>NaN</td>\n",
       "      <td>NaN</td>\n",
       "      <td>0.0</td>\n",
       "      <td>178.0</td>\n",
       "      <td>2.0</td>\n",
       "      <td>1.0</td>\n",
       "    </tr>\n",
       "    <tr>\n",
       "      <th>4</th>\n",
       "      <td>4</td>\n",
       "      <td>16249</td>\n",
       "      <td>48</td>\n",
       "      <td>32.0</td>\n",
       "      <td>lg</td>\n",
       "      <td>32in</td>\n",
       "      <td>LED TV</td>\n",
       "      <td>1366x768pixels</td>\n",
       "      <td>missing</td>\n",
       "      <td>HD</td>\n",
       "      <td>...</td>\n",
       "      <td>1.0</td>\n",
       "      <td>2</td>\n",
       "      <td>16.0</td>\n",
       "      <td>NaN</td>\n",
       "      <td>NaN</td>\n",
       "      <td>NaN</td>\n",
       "      <td>0.0</td>\n",
       "      <td>178.0</td>\n",
       "      <td>3.0</td>\n",
       "      <td>2.0</td>\n",
       "    </tr>\n",
       "  </tbody>\n",
       "</table>\n",
       "<p>5 rows × 25 columns</p>\n",
       "</div>"
      ],
      "text/plain": [
       "   Unnamed: 0  price  rating  screen_size    brand tv_size   tv_type  \\\n",
       "0           0  14999      53         32.0     acer    32in   QLED TV   \n",
       "1           1   9999      53         43.0   xiaomi    43in    LED TV   \n",
       "2           2  31990      65         43.0       lg    43in    LED TV   \n",
       "3           3  38900      63         43.0  samsung    43in    LED TV   \n",
       "4           4  16249      48         32.0       lg    32in    LED TV   \n",
       "\n",
       "       resolution            pixels        hd  ...  has_ethernet num_speakers  \\\n",
       "0  1366x768pixels           missing        HD  ...           1.0            2   \n",
       "1         Full HD   1920x1080pixels   Full HD  ...           1.0            2   \n",
       "2   4K Resolution   3840x2160pixels  Ultra HD  ...           1.0            2   \n",
       "3   4K Resolution   3840x2160pixels  Ultra HD  ...           1.0            2   \n",
       "4  1366x768pixels           missing        HD  ...           1.0            2   \n",
       "\n",
       "  speaker_output processor_core  processor_ram  processor_inbuilt_storage  \\\n",
       "0           30.0            4.0            1.5                       16.0   \n",
       "1           16.0            NaN            1.0                        8.0   \n",
       "2           20.0            NaN            NaN                        NaN   \n",
       "3           20.0            NaN            NaN                        NaN   \n",
       "4           16.0            NaN            NaN                        NaN   \n",
       "\n",
       "  is_ultra_slim  viewing_angle  num_hdmi_ports  num_usb_ports  \n",
       "0           1.0          178.0             2.0            2.0  \n",
       "1           0.0          178.0             2.0            2.0  \n",
       "2           NaN            NaN             3.0            2.0  \n",
       "3           0.0          178.0             2.0            1.0  \n",
       "4           0.0          178.0             3.0            2.0  \n",
       "\n",
       "[5 rows x 25 columns]"
      ]
     },
     "execution_count": 124,
     "metadata": {},
     "output_type": "execute_result"
    }
   ],
   "source": [
    "data = pd.read_csv('./tv_cleaned_v1.csv')\n",
    "data.head()"
   ]
  },
  {
   "cell_type": "code",
   "execution_count": 125,
   "id": "0a8fbe88-5d4c-438c-a3ae-29a1c09e0f38",
   "metadata": {},
   "outputs": [],
   "source": [
    "data.drop(columns='Unnamed: 0', inplace=True)"
   ]
  },
  {
   "cell_type": "code",
   "execution_count": null,
   "id": "14b1aac0-0773-4d39-b471-93482d31095c",
   "metadata": {},
   "outputs": [],
   "source": []
  },
  {
   "cell_type": "markdown",
   "id": "c0401c3d-a584-4c10-8b58-192a1d97086f",
   "metadata": {},
   "source": [
    "# brand"
   ]
  },
  {
   "cell_type": "code",
   "execution_count": 126,
   "id": "c0d5dd89-6581-4ece-bde6-8b8499330b8d",
   "metadata": {},
   "outputs": [
    {
     "data": {
      "text/html": [
       "<div>\n",
       "<style scoped>\n",
       "    .dataframe tbody tr th:only-of-type {\n",
       "        vertical-align: middle;\n",
       "    }\n",
       "\n",
       "    .dataframe tbody tr th {\n",
       "        vertical-align: top;\n",
       "    }\n",
       "\n",
       "    .dataframe thead th {\n",
       "        text-align: right;\n",
       "    }\n",
       "</style>\n",
       "<table border=\"1\" class=\"dataframe\">\n",
       "  <thead>\n",
       "    <tr style=\"text-align: right;\">\n",
       "      <th></th>\n",
       "      <th>price</th>\n",
       "      <th>rating</th>\n",
       "      <th>screen_size</th>\n",
       "      <th>brand</th>\n",
       "      <th>tv_size</th>\n",
       "      <th>tv_type</th>\n",
       "      <th>resolution</th>\n",
       "      <th>pixels</th>\n",
       "      <th>hd</th>\n",
       "      <th>is_smart</th>\n",
       "      <th>...</th>\n",
       "      <th>has_ethernet</th>\n",
       "      <th>num_speakers</th>\n",
       "      <th>speaker_output</th>\n",
       "      <th>processor_core</th>\n",
       "      <th>processor_ram</th>\n",
       "      <th>processor_inbuilt_storage</th>\n",
       "      <th>is_ultra_slim</th>\n",
       "      <th>viewing_angle</th>\n",
       "      <th>num_hdmi_ports</th>\n",
       "      <th>num_usb_ports</th>\n",
       "    </tr>\n",
       "  </thead>\n",
       "  <tbody>\n",
       "    <tr>\n",
       "      <th>59</th>\n",
       "      <td>99999</td>\n",
       "      <td>45</td>\n",
       "      <td>27.0</td>\n",
       "      <td>16\"9 Ratio</td>\n",
       "      <td>lg</td>\n",
       "      <td>27in</td>\n",
       "      <td>missing</td>\n",
       "      <td>Wifi</td>\n",
       "      <td>27.0</td>\n",
       "      <td>1</td>\n",
       "      <td>...</td>\n",
       "      <td>0.0</td>\n",
       "      <td>NaN</td>\n",
       "      <td>NaN</td>\n",
       "      <td>NaN</td>\n",
       "      <td>NaN</td>\n",
       "      <td>NaN</td>\n",
       "      <td>0.0</td>\n",
       "      <td>178.0</td>\n",
       "      <td>2.0</td>\n",
       "      <td>2.0</td>\n",
       "    </tr>\n",
       "  </tbody>\n",
       "</table>\n",
       "<p>1 rows × 24 columns</p>\n",
       "</div>"
      ],
      "text/plain": [
       "    price  rating  screen_size       brand tv_size tv_type resolution pixels  \\\n",
       "59  99999      45         27.0  16\"9 Ratio      lg    27in    missing   Wifi   \n",
       "\n",
       "      hd  is_smart  ... has_ethernet num_speakers speaker_output  \\\n",
       "59  27.0         1  ...          0.0          NaN            NaN   \n",
       "\n",
       "    processor_core  processor_ram processor_inbuilt_storage  is_ultra_slim  \\\n",
       "59             NaN            NaN                       NaN            0.0   \n",
       "\n",
       "    viewing_angle  num_hdmi_ports  num_usb_ports  \n",
       "59          178.0             2.0            2.0  \n",
       "\n",
       "[1 rows x 24 columns]"
      ]
     },
     "execution_count": 126,
     "metadata": {},
     "output_type": "execute_result"
    }
   ],
   "source": [
    "data[data['brand'] == '16\"9 Ratio']"
   ]
  },
  {
   "cell_type": "code",
   "execution_count": 127,
   "id": "7c1444a0-6422-499a-bf00-b6e1691083d5",
   "metadata": {},
   "outputs": [],
   "source": [
    "x = data.loc[59,'brand':'tv_type'].shift(-1).values \n",
    "data.loc[59,'brand':'tv_type'] = x"
   ]
  },
  {
   "cell_type": "code",
   "execution_count": 128,
   "id": "a4c86efc-32b6-44c3-b868-ed9ef058a3e9",
   "metadata": {},
   "outputs": [],
   "source": [
    "data['brand'] = data['brand'].str.strip().str.lower()"
   ]
  },
  {
   "cell_type": "code",
   "execution_count": 129,
   "id": "620531e6-4dd5-4629-b05f-82ba16f893a2",
   "metadata": {},
   "outputs": [],
   "source": [
    "data.drop(columns='tv_size', inplace=True)"
   ]
  },
  {
   "cell_type": "code",
   "execution_count": null,
   "id": "3d9dc8d6-564c-4b58-9803-862cbe9c6400",
   "metadata": {},
   "outputs": [],
   "source": []
  },
  {
   "cell_type": "markdown",
   "id": "ac21fabd-5133-480e-8ada-857bf9631a45",
   "metadata": {},
   "source": [
    "# tv type"
   ]
  },
  {
   "cell_type": "code",
   "execution_count": 130,
   "id": "46d8603d-ebba-439d-9387-86c2c3c54973",
   "metadata": {},
   "outputs": [],
   "source": [
    "data['tv_type'] = data['tv_type'].str.strip().str.lower()"
   ]
  },
  {
   "cell_type": "code",
   "execution_count": 23,
   "id": "827767dc-f7a1-4505-a056-238d9e69f06f",
   "metadata": {},
   "outputs": [
    {
     "name": "stdout",
     "output_type": "stream",
     "text": [
      "qled tv\n",
      "led tv\n",
      "microled tv\n",
      "missing\n",
      "nan\n",
      "micro led tv\n",
      "qned tv\n",
      "oled tv\n",
      "lcd tv\n",
      "qd-led tv\n",
      "mini-led tv\n",
      "qd-mini led tv\n",
      "mini led tv\n",
      "laser tv\n",
      "laser tv tv\n",
      "mini led qled tv\n",
      "qd-miniled tv\n",
      "miniled tv\n",
      "full array led tv\n"
     ]
    }
   ],
   "source": [
    "for i in data['tv_type'].unique():\n",
    "    print(i)"
   ]
  },
  {
   "cell_type": "code",
   "execution_count": 131,
   "id": "82ba9eb8-75cf-41aa-8fef-574756d6235c",
   "metadata": {},
   "outputs": [],
   "source": [
    "data.loc[data['tv_type'] == 'missing', 'tv_type'] = np.nan"
   ]
  },
  {
   "cell_type": "code",
   "execution_count": 62,
   "id": "7235631c-d3d6-40a0-8605-2861a1fbb7e6",
   "metadata": {},
   "outputs": [
    {
     "name": "stdout",
     "output_type": "stream",
     "text": [
      "qled \n",
      "led \n",
      "micro led\n",
      "nan\n",
      "qned \n",
      "oled \n",
      "lcd \n",
      "qd-led \n",
      "mini led\n",
      "qd mini led\n",
      "laser \n",
      "laser  \n",
      "mini led qled \n",
      "full array led \n"
     ]
    }
   ],
   "source": [
    "for i in data['tv_type'].unique():\n",
    "    print(i)"
   ]
  },
  {
   "cell_type": "code",
   "execution_count": 132,
   "id": "5057b368-d058-4210-b602-b267ebd90359",
   "metadata": {},
   "outputs": [],
   "source": [
    "data['tv_type'] = data['tv_type'].str.replace('tv','')\n",
    "data.loc[data['tv_type'].fillna('missing').str.contains('micro'), 'tv_type'] = 'micro led'"
   ]
  },
  {
   "cell_type": "code",
   "execution_count": 133,
   "id": "b8e5b928-7224-427b-aaa8-ffca1a5bea43",
   "metadata": {},
   "outputs": [],
   "source": [
    "filt = (data['tv_type'].str.contains('mini')) & (~data['tv_type'].fillna('missing').str.contains('qd')) & (~data['tv_type'].fillna('missing').str.contains('qled'))\n",
    "data.loc[filt,'tv_type'] = 'mini led'"
   ]
  },
  {
   "cell_type": "code",
   "execution_count": 134,
   "id": "5b8dffe5-6102-402a-bf05-2bbffa04aa5e",
   "metadata": {},
   "outputs": [],
   "source": [
    "filt = (data['tv_type'].str.contains('mini')) & (data['tv_type'].fillna('missing').str.contains('led')) & (data['tv_type'].fillna('missing').str.contains('-'))\n",
    "data.loc[filt, 'tv_type'] = 'qd mini led'"
   ]
  },
  {
   "cell_type": "code",
   "execution_count": 135,
   "id": "a75a055c-919d-49ff-9a0a-47eb9b20ead8",
   "metadata": {},
   "outputs": [
    {
     "data": {
      "text/plain": [
       "led                744\n",
       "qled               161\n",
       "oled                77\n",
       "mini led            10\n",
       "qd mini led          6\n",
       "micro led            3\n",
       "lcd                  2\n",
       "qd-led               2\n",
       "laser                2\n",
       "laser                2\n",
       "mini led qled        2\n",
       "qned                 1\n",
       "full array led       1\n",
       "Name: tv_type, dtype: int64"
      ]
     },
     "execution_count": 135,
     "metadata": {},
     "output_type": "execute_result"
    }
   ],
   "source": [
    "data['tv_type'].value_counts()"
   ]
  },
  {
   "cell_type": "code",
   "execution_count": null,
   "id": "af5156b8-c293-4b61-8c5e-2fb1cc971b0b",
   "metadata": {},
   "outputs": [],
   "source": []
  },
  {
   "cell_type": "code",
   "execution_count": null,
   "id": "c526fcdc-6965-49b8-9a4e-64bfa43e7cd7",
   "metadata": {},
   "outputs": [],
   "source": []
  },
  {
   "cell_type": "markdown",
   "id": "b896c0e5-aeb4-41ec-a53b-8752817f2842",
   "metadata": {},
   "source": [
    "### INFO ABOUT TV TYPE:\n",
    "\n",
    "* LCDs accounted for the most of the TVs in the market but the term LED was coined a decade ago because the CCFL  flourescent lamps used in LCD screens were replaced with\n",
    "light emitting diodes(LEDs) because they were brighter, lasted longer and allowed the screens to be flatter as compared to LCDs.\n",
    "\n",
    "\n",
    "1. QLED: Quantum dot light emitting diode: it is like LED but has an additional quantum dot layer that enhances everything we see on screen like the colors and the brightness of the images.  All QLED TVs are also LCDs but they use quantum dots to produce colors\n",
    "\n",
    "2. MiniLED : in these TVs, teh backlights are made up of mini LEDs for improved brightness and contrast.\n",
    "\n",
    "3. OLED : organic light-emitting diode - in this each individual pixel emits its own light, so no additional backlight is required.\n"
   ]
  },
  {
   "cell_type": "code",
   "execution_count": null,
   "id": "085e277f-f192-4fb8-a131-27f5ef931a4b",
   "metadata": {},
   "outputs": [],
   "source": []
  },
  {
   "cell_type": "markdown",
   "id": "c81b495f-2444-4475-8063-46d4061cc3da",
   "metadata": {},
   "source": [
    "# resolution"
   ]
  },
  {
   "cell_type": "code",
   "execution_count": 69,
   "id": "0b7c11b5-9401-4063-bd23-7c7ca36ca849",
   "metadata": {},
   "outputs": [
    {
     "data": {
      "text/plain": [
       "array(['1366x768pixels', 'Full HD', '4K Resolution', 'missing',\n",
       "       '8K Resolution', '1366x728pixels', '7680x4380pixels',\n",
       "       '1920x1083pixels', 'HD Ready', '366x768pixels', '1399x768pixels'],\n",
       "      dtype=object)"
      ]
     },
     "execution_count": 69,
     "metadata": {},
     "output_type": "execute_result"
    }
   ],
   "source": [
    "data['resolution'].unique()"
   ]
  },
  {
   "cell_type": "code",
   "execution_count": 70,
   "id": "70db442b-0704-4e87-8e1a-60a66254fa1d",
   "metadata": {},
   "outputs": [
    {
     "data": {
      "text/plain": [
       "array(['missing', ' 1920x1080pixels', ' 3840x2160pixels',\n",
       "       '1366x768pixels', ' 7680x4320pixels', 'Wifi', ' 1080x1920pixels',\n",
       "       ' 2160x3840pixels', ' 3810x2160pixels', ' 3480x2160pixels',\n",
       "       ' 1280x720pixels', ' 1260x720pixels', ' 3860x2160pixels',\n",
       "       ' 840x2160pixels', ' 9840x2160pixels'], dtype=object)"
      ]
     },
     "execution_count": 70,
     "metadata": {},
     "output_type": "execute_result"
    }
   ],
   "source": [
    "data['pixels'].unique()"
   ]
  },
  {
   "cell_type": "code",
   "execution_count": 136,
   "id": "11d02a87-fb3e-49c1-bbcc-28aa609927b9",
   "metadata": {},
   "outputs": [],
   "source": [
    "temp = data[data['resolution'].str.contains('pixels')]\n",
    "data.loc[temp.index, 'pixels'] = data.loc[temp.index, 'resolution']\n",
    "data.loc[temp.index, 'resolution'] = np.nan"
   ]
  },
  {
   "cell_type": "code",
   "execution_count": 75,
   "id": "c17a2a1e-c5b9-4bce-9a3c-e5a566200996",
   "metadata": {},
   "outputs": [
    {
     "data": {
      "text/plain": [
       "array([nan, 'Full HD', '4K Resolution', 'missing', '8K Resolution',\n",
       "       'HD Ready'], dtype=object)"
      ]
     },
     "execution_count": 75,
     "metadata": {},
     "output_type": "execute_result"
    }
   ],
   "source": [
    "data['resolution'].unique()"
   ]
  },
  {
   "cell_type": "code",
   "execution_count": 137,
   "id": "381e7ec7-a70b-4da5-bb94-fa72f39ccf19",
   "metadata": {},
   "outputs": [],
   "source": [
    "data.loc[data['resolution'] == 'missing', 'resolution'] = np.nan"
   ]
  },
  {
   "cell_type": "code",
   "execution_count": 138,
   "id": "929a3aad-aa6d-49cb-9b09-94ec0c6c1fc1",
   "metadata": {},
   "outputs": [
    {
     "data": {
      "text/plain": [
       "4"
      ]
     },
     "execution_count": 138,
     "metadata": {},
     "output_type": "execute_result"
    }
   ],
   "source": [
    "data['resolution'].nunique()"
   ]
  },
  {
   "cell_type": "code",
   "execution_count": null,
   "id": "62269063-bcfe-4e21-abe5-4da73d63081e",
   "metadata": {},
   "outputs": [],
   "source": []
  },
  {
   "cell_type": "markdown",
   "id": "301e0d40-68d8-4c0e-a09d-dba4ed002aaa",
   "metadata": {},
   "source": [
    "# pixels\n",
    "if pixels = 1366x768 -> x-resolution orwidth or horizontal resolution=1366 and y-resolution or height or vertical resolution = 768"
   ]
  },
  {
   "cell_type": "code",
   "execution_count": 81,
   "id": "1bb87876-66d6-456f-95dd-83367ef5d3c8",
   "metadata": {},
   "outputs": [
    {
     "data": {
      "text/plain": [
       "array(['1366x768pixels', ' 1920x1080pixels', ' 3840x2160pixels',\n",
       "       ' 7680x4320pixels', '1366x728pixels', 'Wifi', ' 1080x1920pixels',\n",
       "       '7680x4380pixels', '1920x1083pixels', ' 2160x3840pixels',\n",
       "       ' 3810x2160pixels', ' 3480x2160pixels', ' 1280x720pixels',\n",
       "       ' 1260x720pixels', ' 3860x2160pixels', ' 840x2160pixels',\n",
       "       '366x768pixels', '1399x768pixels', ' 9840x2160pixels'],\n",
       "      dtype=object)"
      ]
     },
     "execution_count": 81,
     "metadata": {},
     "output_type": "execute_result"
    }
   ],
   "source": [
    "data['pixels'].unique()"
   ]
  },
  {
   "cell_type": "code",
   "execution_count": 139,
   "id": "79e1e9dd-880c-4ebb-92bd-9700fad9bd1b",
   "metadata": {},
   "outputs": [],
   "source": [
    "data['pixels'] = data['pixels'].str.strip()"
   ]
  },
  {
   "cell_type": "code",
   "execution_count": 140,
   "id": "c98a7ffc-b0a0-4284-b928-0723808fb2dd",
   "metadata": {},
   "outputs": [],
   "source": [
    "data[data['pixels'] == 'Wifi']\n",
    "data.loc[59,'pixels'] = np.nan"
   ]
  },
  {
   "cell_type": "code",
   "execution_count": 141,
   "id": "a8f30e8b-add9-494c-9823-e4251e582295",
   "metadata": {},
   "outputs": [],
   "source": [
    "data[['x_resolution','y_resolution']] =data['pixels'].str.replace('pixels','').str.split('x', expand=True)"
   ]
  },
  {
   "cell_type": "code",
   "execution_count": 142,
   "id": "609b670a-6ced-4d2d-8280-cfb6a7d53dcd",
   "metadata": {},
   "outputs": [
    {
     "data": {
      "text/html": [
       "<div>\n",
       "<style scoped>\n",
       "    .dataframe tbody tr th:only-of-type {\n",
       "        vertical-align: middle;\n",
       "    }\n",
       "\n",
       "    .dataframe tbody tr th {\n",
       "        vertical-align: top;\n",
       "    }\n",
       "\n",
       "    .dataframe thead th {\n",
       "        text-align: right;\n",
       "    }\n",
       "</style>\n",
       "<table border=\"1\" class=\"dataframe\">\n",
       "  <thead>\n",
       "    <tr style=\"text-align: right;\">\n",
       "      <th></th>\n",
       "      <th>pixels</th>\n",
       "      <th>x_resolution</th>\n",
       "      <th>y_resolution</th>\n",
       "    </tr>\n",
       "  </thead>\n",
       "  <tbody>\n",
       "    <tr>\n",
       "      <th>977</th>\n",
       "      <td>1920x1080pixels</td>\n",
       "      <td>1920</td>\n",
       "      <td>1080</td>\n",
       "    </tr>\n",
       "    <tr>\n",
       "      <th>389</th>\n",
       "      <td>1920x1080pixels</td>\n",
       "      <td>1920</td>\n",
       "      <td>1080</td>\n",
       "    </tr>\n",
       "    <tr>\n",
       "      <th>508</th>\n",
       "      <td>1920x1080pixels</td>\n",
       "      <td>1920</td>\n",
       "      <td>1080</td>\n",
       "    </tr>\n",
       "    <tr>\n",
       "      <th>636</th>\n",
       "      <td>3840x2160pixels</td>\n",
       "      <td>3840</td>\n",
       "      <td>2160</td>\n",
       "    </tr>\n",
       "    <tr>\n",
       "      <th>976</th>\n",
       "      <td>3840x2160pixels</td>\n",
       "      <td>3840</td>\n",
       "      <td>2160</td>\n",
       "    </tr>\n",
       "    <tr>\n",
       "      <th>1004</th>\n",
       "      <td>1366x768pixels</td>\n",
       "      <td>1366</td>\n",
       "      <td>768</td>\n",
       "    </tr>\n",
       "    <tr>\n",
       "      <th>825</th>\n",
       "      <td>3840x2160pixels</td>\n",
       "      <td>3840</td>\n",
       "      <td>2160</td>\n",
       "    </tr>\n",
       "  </tbody>\n",
       "</table>\n",
       "</div>"
      ],
      "text/plain": [
       "               pixels x_resolution y_resolution\n",
       "977   1920x1080pixels         1920         1080\n",
       "389   1920x1080pixels         1920         1080\n",
       "508   1920x1080pixels         1920         1080\n",
       "636   3840x2160pixels         3840         2160\n",
       "976   3840x2160pixels         3840         2160\n",
       "1004   1366x768pixels         1366          768\n",
       "825   3840x2160pixels         3840         2160"
      ]
     },
     "execution_count": 142,
     "metadata": {},
     "output_type": "execute_result"
    }
   ],
   "source": [
    "data[['pixels', 'x_resolution', 'y_resolution']].sample(7)"
   ]
  },
  {
   "cell_type": "code",
   "execution_count": 144,
   "id": "5b5c7014-fc00-4b90-ad59-409dcd21d901",
   "metadata": {},
   "outputs": [],
   "source": [
    "data.drop(columns='pixels', inplace=True)"
   ]
  },
  {
   "cell_type": "code",
   "execution_count": null,
   "id": "acb9a738-710f-48be-9f58-57a7a4203464",
   "metadata": {},
   "outputs": [],
   "source": []
  },
  {
   "cell_type": "markdown",
   "id": "e6c8c1f5-2491-47fe-a3b4-6b4b11e51d0b",
   "metadata": {},
   "source": [
    "# hd"
   ]
  },
  {
   "cell_type": "code",
   "execution_count": 105,
   "id": "03fda2f5-a4e4-485a-97f9-3b8af2d197f9",
   "metadata": {},
   "outputs": [
    {
     "data": {
      "text/plain": [
       "array(['HD', 'Full HD', 'Ultra HD', 'missing', '27.0'], dtype=object)"
      ]
     },
     "execution_count": 105,
     "metadata": {},
     "output_type": "execute_result"
    }
   ],
   "source": [
    "data['hd'].unique()"
   ]
  },
  {
   "cell_type": "code",
   "execution_count": 145,
   "id": "0b4a8273-0783-4707-bcf8-a92ab210cf8d",
   "metadata": {},
   "outputs": [],
   "source": [
    "data[data['hd'] == '27.0']\n",
    "data.loc[59,'hd'] = np.nan"
   ]
  },
  {
   "cell_type": "code",
   "execution_count": 146,
   "id": "18f5134f-05c9-4c79-96b8-57e69ef13e1e",
   "metadata": {},
   "outputs": [],
   "source": [
    "data.loc[data['hd']=='missing'] = np.nan"
   ]
  },
  {
   "cell_type": "code",
   "execution_count": 147,
   "id": "c120a0c0-b2e2-43e2-a581-035e93d6bd63",
   "metadata": {},
   "outputs": [
    {
     "data": {
      "text/plain": [
       "array(['HD', 'Full HD', 'Ultra HD', nan], dtype=object)"
      ]
     },
     "execution_count": 147,
     "metadata": {},
     "output_type": "execute_result"
    }
   ],
   "source": [
    "data['hd'].unique()"
   ]
  },
  {
   "cell_type": "code",
   "execution_count": null,
   "id": "d9bf2c8b-2787-417b-969c-2cad5294834b",
   "metadata": {},
   "outputs": [],
   "source": []
  },
  {
   "cell_type": "markdown",
   "id": "c63e90fc-9c1e-4424-ac03-d5b333b504a9",
   "metadata": {},
   "source": [
    "# is smart"
   ]
  },
  {
   "cell_type": "code",
   "execution_count": 148,
   "id": "c483e2e8-eae7-4dea-802d-a00ce173c178",
   "metadata": {},
   "outputs": [
    {
     "data": {
      "text/plain": [
       "array([ 1., nan,  0.])"
      ]
     },
     "execution_count": 148,
     "metadata": {},
     "output_type": "execute_result"
    }
   ],
   "source": [
    "data['is_smart'].unique()"
   ]
  },
  {
   "cell_type": "code",
   "execution_count": null,
   "id": "ca60252f-a095-4019-89a5-e71c27a8dac1",
   "metadata": {},
   "outputs": [],
   "source": []
  },
  {
   "cell_type": "markdown",
   "id": "22f0d4e4-d744-4419-a9f4-85d9c5043e05",
   "metadata": {},
   "source": [
    "# led type"
   ]
  },
  {
   "cell_type": "code",
   "execution_count": 149,
   "id": "71784402-16ca-4024-97cf-afef25934fd0",
   "metadata": {},
   "outputs": [
    {
     "data": {
      "text/plain": [
       "array(['QLED', 'LED', 'MicroLED', nan, '0', 'missing'], dtype=object)"
      ]
     },
     "execution_count": 149,
     "metadata": {},
     "output_type": "execute_result"
    }
   ],
   "source": [
    "data['led_type'].unique()"
   ]
  },
  {
   "cell_type": "code",
   "execution_count": 150,
   "id": "0ce1064a-44c7-405c-9834-444c949b7e49",
   "metadata": {},
   "outputs": [],
   "source": [
    "data.loc[data['led_type'] == 'missing', 'led_type'] = np.nan"
   ]
  },
  {
   "cell_type": "code",
   "execution_count": 152,
   "id": "5eb58c1c-7c5e-430e-b4b9-439057a6576b",
   "metadata": {},
   "outputs": [
    {
     "data": {
      "text/plain": [
       "array(['QLED', 'LED', 'MicroLED', nan, '0'], dtype=object)"
      ]
     },
     "execution_count": 152,
     "metadata": {},
     "output_type": "execute_result"
    }
   ],
   "source": [
    "data['led_type'].unique()"
   ]
  },
  {
   "cell_type": "code",
   "execution_count": 154,
   "id": "a07206ff-a148-43c5-9651-859f7ee66879",
   "metadata": {},
   "outputs": [],
   "source": [
    "data[data['led_type'] == '0']\n",
    "data.loc[59,'led_type']  = np.nan"
   ]
  },
  {
   "cell_type": "code",
   "execution_count": 157,
   "id": "a94946d1-9c45-4555-84b7-99484a0f8c6c",
   "metadata": {},
   "outputs": [],
   "source": [
    "data['led_type'] = data['led_type'].str.strip().str.lower()"
   ]
  },
  {
   "cell_type": "code",
   "execution_count": 172,
   "id": "ab69750d-db83-4284-baf4-2caacd96b47c",
   "metadata": {},
   "outputs": [
    {
     "data": {
      "text/html": [
       "<div>\n",
       "<style scoped>\n",
       "    .dataframe tbody tr th:only-of-type {\n",
       "        vertical-align: middle;\n",
       "    }\n",
       "\n",
       "    .dataframe tbody tr th {\n",
       "        vertical-align: top;\n",
       "    }\n",
       "\n",
       "    .dataframe thead th {\n",
       "        text-align: right;\n",
       "    }\n",
       "</style>\n",
       "<table border=\"1\" class=\"dataframe\">\n",
       "  <thead>\n",
       "    <tr style=\"text-align: right;\">\n",
       "      <th></th>\n",
       "      <th>tv_type</th>\n",
       "      <th>led_type</th>\n",
       "    </tr>\n",
       "  </thead>\n",
       "  <tbody>\n",
       "    <tr>\n",
       "      <th>409</th>\n",
       "      <td>led</td>\n",
       "      <td>led</td>\n",
       "    </tr>\n",
       "    <tr>\n",
       "      <th>779</th>\n",
       "      <td>led</td>\n",
       "      <td>led</td>\n",
       "    </tr>\n",
       "    <tr>\n",
       "      <th>9</th>\n",
       "      <td>led</td>\n",
       "      <td>led</td>\n",
       "    </tr>\n",
       "    <tr>\n",
       "      <th>717</th>\n",
       "      <td>led</td>\n",
       "      <td>led</td>\n",
       "    </tr>\n",
       "    <tr>\n",
       "      <th>743</th>\n",
       "      <td>led</td>\n",
       "      <td>led</td>\n",
       "    </tr>\n",
       "    <tr>\n",
       "      <th>786</th>\n",
       "      <td>led</td>\n",
       "      <td>led</td>\n",
       "    </tr>\n",
       "    <tr>\n",
       "      <th>906</th>\n",
       "      <td>NaN</td>\n",
       "      <td>NaN</td>\n",
       "    </tr>\n",
       "  </tbody>\n",
       "</table>\n",
       "</div>"
      ],
      "text/plain": [
       "    tv_type led_type\n",
       "409    led       led\n",
       "779    led       led\n",
       "9      led       led\n",
       "717    led       led\n",
       "743    led       led\n",
       "786    led       led\n",
       "906     NaN      NaN"
      ]
     },
     "execution_count": 172,
     "metadata": {},
     "output_type": "execute_result"
    }
   ],
   "source": [
    "data[['tv_type', 'led_type']].sample(7)"
   ]
  },
  {
   "cell_type": "code",
   "execution_count": 177,
   "id": "93061612-c5a7-4a16-8370-a4dfde323a62",
   "metadata": {},
   "outputs": [],
   "source": [
    "data.loc[274,'tv_type'] = 'qd led'\n",
    "data.loc[440,'tv_type'] = 'qd mini led'\n",
    "data.loc[441,'tv_type'] = 'qd mini led'\n",
    "data.loc[442,'tv_type'] = 'qd mini led'\n",
    "data.loc[671,'tv_type'] = 'qd mini led'"
   ]
  },
  {
   "cell_type": "code",
   "execution_count": 178,
   "id": "51656b47-43c7-4a72-bc98-568ba694016d",
   "metadata": {},
   "outputs": [],
   "source": [
    "data.loc[672,'tv_type'] = 'qd led'\n",
    "data.loc[673,'tv_type'] = 'qd mini led'\n",
    "data.loc[674,'tv_type'] = 'qd mini led'"
   ]
  },
  {
   "cell_type": "code",
   "execution_count": null,
   "id": "a9716e51-12a8-4660-b7fe-5b1844d06b3f",
   "metadata": {},
   "outputs": [],
   "source": []
  },
  {
   "cell_type": "code",
   "execution_count": 179,
   "id": "bffdb1d5-dc2b-4d03-bbf6-532faa25bf68",
   "metadata": {},
   "outputs": [
    {
     "data": {
      "text/html": [
       "<div>\n",
       "<style scoped>\n",
       "    .dataframe tbody tr th:only-of-type {\n",
       "        vertical-align: middle;\n",
       "    }\n",
       "\n",
       "    .dataframe tbody tr th {\n",
       "        vertical-align: top;\n",
       "    }\n",
       "\n",
       "    .dataframe thead th {\n",
       "        text-align: right;\n",
       "    }\n",
       "</style>\n",
       "<table border=\"1\" class=\"dataframe\">\n",
       "  <thead>\n",
       "    <tr style=\"text-align: right;\">\n",
       "      <th></th>\n",
       "      <th>price</th>\n",
       "      <th>rating</th>\n",
       "      <th>screen_size</th>\n",
       "      <th>brand</th>\n",
       "      <th>tv_type</th>\n",
       "      <th>resolution</th>\n",
       "      <th>hd</th>\n",
       "      <th>is_smart</th>\n",
       "      <th>led_type</th>\n",
       "      <th>resolution_type</th>\n",
       "      <th>...</th>\n",
       "      <th>speaker_output</th>\n",
       "      <th>processor_core</th>\n",
       "      <th>processor_ram</th>\n",
       "      <th>processor_inbuilt_storage</th>\n",
       "      <th>is_ultra_slim</th>\n",
       "      <th>viewing_angle</th>\n",
       "      <th>num_hdmi_ports</th>\n",
       "      <th>num_usb_ports</th>\n",
       "      <th>x_resolution</th>\n",
       "      <th>y_resolution</th>\n",
       "    </tr>\n",
       "  </thead>\n",
       "  <tbody>\n",
       "    <tr>\n",
       "      <th>274</th>\n",
       "      <td>310999.0</td>\n",
       "      <td>73.0</td>\n",
       "      <td>98.0</td>\n",
       "      <td>tcl</td>\n",
       "      <td>qd led</td>\n",
       "      <td>4K Resolution</td>\n",
       "      <td>Ultra HD</td>\n",
       "      <td>1.0</td>\n",
       "      <td>led</td>\n",
       "      <td>4K Resolution</td>\n",
       "      <td>...</td>\n",
       "      <td>60.0</td>\n",
       "      <td>NaN</td>\n",
       "      <td>4.0</td>\n",
       "      <td>64.0</td>\n",
       "      <td>NaN</td>\n",
       "      <td>NaN</td>\n",
       "      <td>4.0</td>\n",
       "      <td>4.0</td>\n",
       "      <td>3840</td>\n",
       "      <td>2160</td>\n",
       "    </tr>\n",
       "    <tr>\n",
       "      <th>440</th>\n",
       "      <td>194499.0</td>\n",
       "      <td>62.0</td>\n",
       "      <td>85.0</td>\n",
       "      <td>tcl</td>\n",
       "      <td>qd mini led</td>\n",
       "      <td>4K Resolution</td>\n",
       "      <td>Ultra HD</td>\n",
       "      <td>1.0</td>\n",
       "      <td>led</td>\n",
       "      <td>4K Resolution</td>\n",
       "      <td>...</td>\n",
       "      <td>90.0</td>\n",
       "      <td>NaN</td>\n",
       "      <td>4.0</td>\n",
       "      <td>64.0</td>\n",
       "      <td>0.0</td>\n",
       "      <td>NaN</td>\n",
       "      <td>NaN</td>\n",
       "      <td>NaN</td>\n",
       "      <td>3840</td>\n",
       "      <td>2160</td>\n",
       "    </tr>\n",
       "    <tr>\n",
       "      <th>441</th>\n",
       "      <td>102999.0</td>\n",
       "      <td>60.0</td>\n",
       "      <td>65.0</td>\n",
       "      <td>tcl</td>\n",
       "      <td>qd mini led</td>\n",
       "      <td>4K Resolution</td>\n",
       "      <td>Ultra HD</td>\n",
       "      <td>1.0</td>\n",
       "      <td>led</td>\n",
       "      <td>4K Resolution</td>\n",
       "      <td>...</td>\n",
       "      <td>90.0</td>\n",
       "      <td>NaN</td>\n",
       "      <td>4.0</td>\n",
       "      <td>64.0</td>\n",
       "      <td>0.0</td>\n",
       "      <td>NaN</td>\n",
       "      <td>NaN</td>\n",
       "      <td>NaN</td>\n",
       "      <td>3840</td>\n",
       "      <td>2160</td>\n",
       "    </tr>\n",
       "    <tr>\n",
       "      <th>442</th>\n",
       "      <td>137299.0</td>\n",
       "      <td>61.0</td>\n",
       "      <td>75.0</td>\n",
       "      <td>tcl</td>\n",
       "      <td>qd mini led</td>\n",
       "      <td>4K Resolution</td>\n",
       "      <td>Ultra HD</td>\n",
       "      <td>1.0</td>\n",
       "      <td>led</td>\n",
       "      <td>4K Resolution</td>\n",
       "      <td>...</td>\n",
       "      <td>90.0</td>\n",
       "      <td>NaN</td>\n",
       "      <td>4.0</td>\n",
       "      <td>64.0</td>\n",
       "      <td>0.0</td>\n",
       "      <td>NaN</td>\n",
       "      <td>NaN</td>\n",
       "      <td>NaN</td>\n",
       "      <td>3840</td>\n",
       "      <td>2160</td>\n",
       "    </tr>\n",
       "    <tr>\n",
       "      <th>671</th>\n",
       "      <td>599999.0</td>\n",
       "      <td>75.0</td>\n",
       "      <td>98.0</td>\n",
       "      <td>tcl</td>\n",
       "      <td>qd mini led</td>\n",
       "      <td>4K Resolution</td>\n",
       "      <td>Ultra HD</td>\n",
       "      <td>1.0</td>\n",
       "      <td>led</td>\n",
       "      <td>4K Resolution</td>\n",
       "      <td>...</td>\n",
       "      <td>60.0</td>\n",
       "      <td>NaN</td>\n",
       "      <td>4.0</td>\n",
       "      <td>128.0</td>\n",
       "      <td>NaN</td>\n",
       "      <td>NaN</td>\n",
       "      <td>4.0</td>\n",
       "      <td>4.0</td>\n",
       "      <td>3840</td>\n",
       "      <td>2160</td>\n",
       "    </tr>\n",
       "    <tr>\n",
       "      <th>672</th>\n",
       "      <td>95999.0</td>\n",
       "      <td>69.0</td>\n",
       "      <td>65.0</td>\n",
       "      <td>tcl</td>\n",
       "      <td>qd led</td>\n",
       "      <td>4K Resolution</td>\n",
       "      <td>Ultra HD</td>\n",
       "      <td>1.0</td>\n",
       "      <td>led</td>\n",
       "      <td>4K Resolution</td>\n",
       "      <td>...</td>\n",
       "      <td>60.0</td>\n",
       "      <td>NaN</td>\n",
       "      <td>4.0</td>\n",
       "      <td>64.0</td>\n",
       "      <td>NaN</td>\n",
       "      <td>NaN</td>\n",
       "      <td>4.0</td>\n",
       "      <td>4.0</td>\n",
       "      <td>3840</td>\n",
       "      <td>2160</td>\n",
       "    </tr>\n",
       "    <tr>\n",
       "      <th>673</th>\n",
       "      <td>287999.0</td>\n",
       "      <td>73.0</td>\n",
       "      <td>75.0</td>\n",
       "      <td>tcl</td>\n",
       "      <td>qd mini led</td>\n",
       "      <td>4K Resolution</td>\n",
       "      <td>Ultra HD</td>\n",
       "      <td>1.0</td>\n",
       "      <td>led</td>\n",
       "      <td>4K Resolution</td>\n",
       "      <td>...</td>\n",
       "      <td>60.0</td>\n",
       "      <td>NaN</td>\n",
       "      <td>4.0</td>\n",
       "      <td>128.0</td>\n",
       "      <td>NaN</td>\n",
       "      <td>NaN</td>\n",
       "      <td>4.0</td>\n",
       "      <td>4.0</td>\n",
       "      <td>3840</td>\n",
       "      <td>2160</td>\n",
       "    </tr>\n",
       "    <tr>\n",
       "      <th>674</th>\n",
       "      <td>383999.0</td>\n",
       "      <td>74.0</td>\n",
       "      <td>85.0</td>\n",
       "      <td>tcl</td>\n",
       "      <td>qd mini led</td>\n",
       "      <td>4K Resolution</td>\n",
       "      <td>Ultra HD</td>\n",
       "      <td>1.0</td>\n",
       "      <td>led</td>\n",
       "      <td>4K Resolution</td>\n",
       "      <td>...</td>\n",
       "      <td>60.0</td>\n",
       "      <td>NaN</td>\n",
       "      <td>4.0</td>\n",
       "      <td>128.0</td>\n",
       "      <td>NaN</td>\n",
       "      <td>NaN</td>\n",
       "      <td>4.0</td>\n",
       "      <td>4.0</td>\n",
       "      <td>3840</td>\n",
       "      <td>2160</td>\n",
       "    </tr>\n",
       "  </tbody>\n",
       "</table>\n",
       "<p>8 rows × 24 columns</p>\n",
       "</div>"
      ],
      "text/plain": [
       "        price  rating  screen_size brand      tv_type     resolution  \\\n",
       "274  310999.0    73.0         98.0   tcl       qd led  4K Resolution   \n",
       "440  194499.0    62.0         85.0   tcl  qd mini led  4K Resolution   \n",
       "441  102999.0    60.0         65.0   tcl  qd mini led  4K Resolution   \n",
       "442  137299.0    61.0         75.0   tcl  qd mini led  4K Resolution   \n",
       "671  599999.0    75.0         98.0   tcl  qd mini led  4K Resolution   \n",
       "672   95999.0    69.0         65.0   tcl       qd led  4K Resolution   \n",
       "673  287999.0    73.0         75.0   tcl  qd mini led  4K Resolution   \n",
       "674  383999.0    74.0         85.0   tcl  qd mini led  4K Resolution   \n",
       "\n",
       "           hd  is_smart led_type resolution_type  ... speaker_output  \\\n",
       "274  Ultra HD       1.0      led   4K Resolution  ...           60.0   \n",
       "440  Ultra HD       1.0      led   4K Resolution  ...           90.0   \n",
       "441  Ultra HD       1.0      led   4K Resolution  ...           90.0   \n",
       "442  Ultra HD       1.0      led   4K Resolution  ...           90.0   \n",
       "671  Ultra HD       1.0      led   4K Resolution  ...           60.0   \n",
       "672  Ultra HD       1.0      led   4K Resolution  ...           60.0   \n",
       "673  Ultra HD       1.0      led   4K Resolution  ...           60.0   \n",
       "674  Ultra HD       1.0      led   4K Resolution  ...           60.0   \n",
       "\n",
       "     processor_core  processor_ram processor_inbuilt_storage  is_ultra_slim  \\\n",
       "274             NaN            4.0                      64.0            NaN   \n",
       "440             NaN            4.0                      64.0            0.0   \n",
       "441             NaN            4.0                      64.0            0.0   \n",
       "442             NaN            4.0                      64.0            0.0   \n",
       "671             NaN            4.0                     128.0            NaN   \n",
       "672             NaN            4.0                      64.0            NaN   \n",
       "673             NaN            4.0                     128.0            NaN   \n",
       "674             NaN            4.0                     128.0            NaN   \n",
       "\n",
       "     viewing_angle  num_hdmi_ports  num_usb_ports  x_resolution  y_resolution  \n",
       "274            NaN             4.0            4.0          3840          2160  \n",
       "440            NaN             NaN            NaN          3840          2160  \n",
       "441            NaN             NaN            NaN          3840          2160  \n",
       "442            NaN             NaN            NaN          3840          2160  \n",
       "671            NaN             4.0            4.0          3840          2160  \n",
       "672            NaN             4.0            4.0          3840          2160  \n",
       "673            NaN             4.0            4.0          3840          2160  \n",
       "674            NaN             4.0            4.0          3840          2160  \n",
       "\n",
       "[8 rows x 24 columns]"
      ]
     },
     "execution_count": 179,
     "metadata": {},
     "output_type": "execute_result"
    }
   ],
   "source": [
    "data[data['tv_type'].fillna('missing').str.contains('qd')]"
   ]
  },
  {
   "cell_type": "code",
   "execution_count": 176,
   "id": "0786dfcd-28b4-4fae-bc01-45fd6140369f",
   "metadata": {},
   "outputs": [
    {
     "data": {
      "text/plain": [
       "0.1588235294117647"
      ]
     },
     "execution_count": 176,
     "metadata": {},
     "output_type": "execute_result"
    }
   ],
   "source": [
    "data['led_type'].isna().mean()"
   ]
  },
  {
   "cell_type": "code",
   "execution_count": 182,
   "id": "27a16755-9cba-403e-bfa5-3b0a338ca8d4",
   "metadata": {},
   "outputs": [
    {
     "data": {
      "text/plain": [
       "array(['qled ', 'led ', 'micro led', nan, 'qned ', 'oled ', 'lcd ',\n",
       "       'qd led', 'mini led', 'qd mini led', 'laser ', 'laser  ',\n",
       "       'mini led qled ', 'full array led '], dtype=object)"
      ]
     },
     "execution_count": 182,
     "metadata": {},
     "output_type": "execute_result"
    }
   ],
   "source": [
    "data['tv_type'].unique()"
   ]
  },
  {
   "cell_type": "code",
   "execution_count": null,
   "id": "8a63538d-eb62-4161-bda4-8313c70aa44b",
   "metadata": {},
   "outputs": [],
   "source": []
  },
  {
   "cell_type": "code",
   "execution_count": 185,
   "id": "b3ec3fb0-5ea2-4fbb-bf81-c10fef7a273e",
   "metadata": {},
   "outputs": [],
   "source": [
    "temp = data[data['tv_type'].fillna('missing').str.contains('laser')]\n",
    "data.loc[temp.index, 'tv_type'] = 'laser'"
   ]
  },
  {
   "cell_type": "code",
   "execution_count": 202,
   "id": "dd3ec6dd-bf1c-4bca-85ff-98214e98a414",
   "metadata": {},
   "outputs": [
    {
     "data": {
      "text/plain": [
       "array(['qled', 'led', 'micro led', nan, 'qned', 'oled', 'lcd', 'qd led',\n",
       "       'mini led', 'qd mini led', 'laser', 'mini led qled',\n",
       "       'full array led'], dtype=object)"
      ]
     },
     "execution_count": 202,
     "metadata": {},
     "output_type": "execute_result"
    }
   ],
   "source": [
    "data['tv_type'].unique()"
   ]
  },
  {
   "cell_type": "code",
   "execution_count": 188,
   "id": "d339ca40-43c2-4b6e-93b8-daf8127ebc2c",
   "metadata": {},
   "outputs": [],
   "source": [
    "temp = data[data['tv_type'].fillna('missing').str.contains('lcd')]\n",
    "data.loc[temp.index,'tv_type'] = 'lcd'"
   ]
  },
  {
   "cell_type": "code",
   "execution_count": 198,
   "id": "eeeb949b-bfdd-4311-9ac3-afce6792ef55",
   "metadata": {},
   "outputs": [],
   "source": [
    "pd.set_option('display.max_rows', None)\n",
    "import warnings\n",
    "warnings.filterwarnings('ignore')"
   ]
  },
  {
   "cell_type": "code",
   "execution_count": 199,
   "id": "847a35c4-80cb-4170-8f2d-50975633b93e",
   "metadata": {},
   "outputs": [],
   "source": [
    "temp = data[data['tv_type'].fillna('missing').str.contains('qled')]\n",
    "temp.drop(index=[574,575], inplace=True)\n",
    "data.loc[temp.index, 'tv_type'] = 'qled'"
   ]
  },
  {
   "cell_type": "code",
   "execution_count": null,
   "id": "be91c737-eca6-481a-9c66-48c6ffc0f719",
   "metadata": {},
   "outputs": [],
   "source": [
    "data[data['tv_type'].fillna('missing').str.contains('qled')]"
   ]
  },
  {
   "cell_type": "code",
   "execution_count": 201,
   "id": "7571ca68-0833-4a8e-b48d-9dc96d2f099f",
   "metadata": {},
   "outputs": [],
   "source": [
    "data['tv_type'] = data['tv_type'].str.strip()"
   ]
  },
  {
   "cell_type": "code",
   "execution_count": null,
   "id": "154a1e1b-26ea-43fa-a8cf-846857b5c4ec",
   "metadata": {},
   "outputs": [],
   "source": []
  },
  {
   "cell_type": "markdown",
   "id": "9e104fc0-c66f-489d-9d8a-34ac69750586",
   "metadata": {},
   "source": [
    "- tv type and led_type have the same data.. the kind of led on the tv screen.\n",
    "- but since, tv_type has only 7% null values as compared to led_type which has 16% null values, I am dropping led_type"
   ]
  },
  {
   "cell_type": "code",
   "execution_count": 203,
   "id": "68429dd5-232d-4017-a932-63594d5ad0d7",
   "metadata": {},
   "outputs": [
    {
     "data": {
      "text/plain": [
       "6.96078431372549"
      ]
     },
     "execution_count": 203,
     "metadata": {},
     "output_type": "execute_result"
    }
   ],
   "source": [
    "data['tv_type'].isna().mean()*100"
   ]
  },
  {
   "cell_type": "code",
   "execution_count": 204,
   "id": "860e7f39-3e54-4be0-9799-352b8869c052",
   "metadata": {},
   "outputs": [
    {
     "data": {
      "text/plain": [
       "15.88235294117647"
      ]
     },
     "execution_count": 204,
     "metadata": {},
     "output_type": "execute_result"
    }
   ],
   "source": [
    "data['led_type'].isna().mean()*100"
   ]
  },
  {
   "cell_type": "code",
   "execution_count": 205,
   "id": "a6dad7e0-d30b-4280-9cd5-b2a02cab59cf",
   "metadata": {},
   "outputs": [],
   "source": [
    "data.drop(columns='led_type', inplace=True)"
   ]
  },
  {
   "cell_type": "code",
   "execution_count": null,
   "id": "e36e4490-0b8a-47d3-9748-79b1be87c161",
   "metadata": {},
   "outputs": [],
   "source": []
  },
  {
   "cell_type": "code",
   "execution_count": 206,
   "id": "ccdf880c-85ed-4774-9400-eb7529640e01",
   "metadata": {},
   "outputs": [
    {
     "data": {
      "text/plain": [
       "Index(['price', 'rating', 'screen_size', 'brand', 'tv_type', 'resolution',\n",
       "       'hd', 'is_smart', 'resolution_type', 'screen_pixels', 'has_wifi',\n",
       "       'has_ethernet', 'num_speakers', 'speaker_output', 'processor_core',\n",
       "       'processor_ram', 'processor_inbuilt_storage', 'is_ultra_slim',\n",
       "       'viewing_angle', 'num_hdmi_ports', 'num_usb_ports', 'x_resolution',\n",
       "       'y_resolution'],\n",
       "      dtype='object')"
      ]
     },
     "execution_count": 206,
     "metadata": {},
     "output_type": "execute_result"
    }
   ],
   "source": [
    "data.columns"
   ]
  },
  {
   "cell_type": "code",
   "execution_count": 211,
   "id": "8fe094b4-b6a1-4b72-a91e-4aaa131bce35",
   "metadata": {},
   "outputs": [],
   "source": [
    "data.drop(columns='screen_pixels', inplace=True)"
   ]
  },
  {
   "cell_type": "code",
   "execution_count": null,
   "id": "c0fc4415-2526-4046-ab36-dacdfad401c1",
   "metadata": {},
   "outputs": [],
   "source": []
  },
  {
   "cell_type": "markdown",
   "id": "fcf7d095-3c0b-4cfc-9aeb-594e3776330e",
   "metadata": {},
   "source": [
    "# has_wifi"
   ]
  },
  {
   "cell_type": "code",
   "execution_count": 212,
   "id": "e4597db8-0a05-4e9d-b517-ad3c280c7166",
   "metadata": {},
   "outputs": [
    {
     "data": {
      "text/plain": [
       "array([ 1., nan,  0.])"
      ]
     },
     "execution_count": 212,
     "metadata": {},
     "output_type": "execute_result"
    }
   ],
   "source": [
    "data['has_wifi'].unique()"
   ]
  },
  {
   "cell_type": "code",
   "execution_count": null,
   "id": "3e687b54-17f6-4638-a470-1d55b2bd9f76",
   "metadata": {},
   "outputs": [],
   "source": []
  },
  {
   "cell_type": "markdown",
   "id": "2f0806b2-f761-4610-88d3-e4bd13c0d96a",
   "metadata": {},
   "source": [
    "# has ethernet"
   ]
  },
  {
   "cell_type": "code",
   "execution_count": 214,
   "id": "0780fe32-57d5-4003-8657-b776a0f15791",
   "metadata": {},
   "outputs": [
    {
     "data": {
      "text/plain": [
       "array([ 1.,  0., nan])"
      ]
     },
     "execution_count": 214,
     "metadata": {},
     "output_type": "execute_result"
    }
   ],
   "source": [
    "data['has_ethernet'].unique()"
   ]
  },
  {
   "cell_type": "code",
   "execution_count": null,
   "id": "1891c5e4-9587-4dd4-8b0b-fe47a0e19da4",
   "metadata": {},
   "outputs": [],
   "source": []
  },
  {
   "cell_type": "markdown",
   "id": "a943e5b3-ee88-4326-9fa8-3fd4740796bc",
   "metadata": {},
   "source": [
    "# num_speakers"
   ]
  },
  {
   "cell_type": "code",
   "execution_count": 216,
   "id": "687b0ce5-76e2-456e-9c20-7aa71eebe502",
   "metadata": {},
   "outputs": [
    {
     "data": {
      "text/plain": [
       "array(['2', '4', nan, '5', '3', '7', '1', '50', '6', '8', '4.2.2'],\n",
       "      dtype=object)"
      ]
     },
     "execution_count": 216,
     "metadata": {},
     "output_type": "execute_result"
    }
   ],
   "source": [
    "data['num_speakers'].unique()"
   ]
  },
  {
   "cell_type": "code",
   "execution_count": 218,
   "id": "dd3e2d7b-f784-475d-a957-3bb02bdc28bc",
   "metadata": {},
   "outputs": [],
   "source": [
    "data.loc[data['num_speakers'] == '4.2.2', 'num_speakers'] = 8"
   ]
  },
  {
   "cell_type": "code",
   "execution_count": 219,
   "id": "9923b676-5a5a-4b85-a0f4-9c272b349702",
   "metadata": {},
   "outputs": [],
   "source": [
    "data['num_speakers'] = data['num_speakers'].astype(float)"
   ]
  },
  {
   "cell_type": "code",
   "execution_count": null,
   "id": "8b75f3c9-2de9-43f9-ae91-d453cbf7241d",
   "metadata": {},
   "outputs": [],
   "source": []
  },
  {
   "cell_type": "markdown",
   "id": "d81dfb72-4ce3-4048-b7b9-b1ba9071dc88",
   "metadata": {},
   "source": [
    "# speaker output"
   ]
  },
  {
   "cell_type": "code",
   "execution_count": 222,
   "id": "d98c0f9d-660d-431f-b5ba-306398adc1b4",
   "metadata": {},
   "outputs": [
    {
     "data": {
      "text/plain": [
       "dtype('float64')"
      ]
     },
     "execution_count": 222,
     "metadata": {},
     "output_type": "execute_result"
    }
   ],
   "source": [
    "data['speaker_output'].dtype"
   ]
  },
  {
   "cell_type": "code",
   "execution_count": null,
   "id": "9a77fa8d-9568-4049-bb7d-f2062f9209a9",
   "metadata": {},
   "outputs": [],
   "source": []
  },
  {
   "cell_type": "markdown",
   "id": "eda10033-a97c-4e1f-811a-f0a49129bd1f",
   "metadata": {},
   "source": [
    "# processor core"
   ]
  },
  {
   "cell_type": "code",
   "execution_count": 225,
   "id": "e76d2dda-796a-4900-8c84-91f6467c0fb5",
   "metadata": {},
   "outputs": [
    {
     "data": {
      "text/plain": [
       "array([ 4., nan,  8.,  6.])"
      ]
     },
     "execution_count": 225,
     "metadata": {},
     "output_type": "execute_result"
    }
   ],
   "source": [
    "data['processor_core'].unique()"
   ]
  },
  {
   "cell_type": "code",
   "execution_count": null,
   "id": "52f0c44b-5028-446f-a50b-9f8c53ee713a",
   "metadata": {},
   "outputs": [],
   "source": []
  },
  {
   "cell_type": "markdown",
   "id": "b0a4d7d0-4ef9-4141-9440-c4c8fc167c52",
   "metadata": {},
   "source": [
    "# processor inbuilt storage"
   ]
  },
  {
   "cell_type": "code",
   "execution_count": 226,
   "id": "69ae0192-c042-4cd5-bc18-a959f03814f1",
   "metadata": {},
   "outputs": [
    {
     "data": {
      "text/plain": [
       "array([ 16. ,   8. ,   nan,  32. ,  64. ,   4. ,   0.5,   2. , 128. ])"
      ]
     },
     "execution_count": 226,
     "metadata": {},
     "output_type": "execute_result"
    }
   ],
   "source": [
    "data['processor_inbuilt_storage'].unique()"
   ]
  },
  {
   "cell_type": "code",
   "execution_count": null,
   "id": "155f2238-855f-434e-b940-09fcf5c3ba34",
   "metadata": {},
   "outputs": [],
   "source": []
  },
  {
   "cell_type": "markdown",
   "id": "1c3e2949-43b6-4fe2-9dfa-7f85f8ce4545",
   "metadata": {},
   "source": [
    "# is ultra slim"
   ]
  },
  {
   "cell_type": "code",
   "execution_count": 227,
   "id": "4f831a6f-8fe8-4380-9c63-b8dd820e1c0f",
   "metadata": {},
   "outputs": [
    {
     "data": {
      "text/plain": [
       "array([ 1.,  0., nan])"
      ]
     },
     "execution_count": 227,
     "metadata": {},
     "output_type": "execute_result"
    }
   ],
   "source": [
    "data['is_ultra_slim'].unique()"
   ]
  },
  {
   "cell_type": "code",
   "execution_count": null,
   "id": "3e957433-68b9-466f-a731-81b9a173f9a3",
   "metadata": {},
   "outputs": [],
   "source": []
  },
  {
   "cell_type": "markdown",
   "id": "14ca6ea2-2704-4848-8793-b5d2cacad712",
   "metadata": {},
   "source": [
    "# viewing angle"
   ]
  },
  {
   "cell_type": "code",
   "execution_count": 228,
   "id": "c517cdb4-16c4-46d4-a66c-31120cdb4760",
   "metadata": {},
   "outputs": [
    {
     "data": {
      "text/plain": [
       "array([178.,  nan, 180., 179.,   8., 170.])"
      ]
     },
     "execution_count": 228,
     "metadata": {},
     "output_type": "execute_result"
    }
   ],
   "source": [
    "data['viewing_angle'].unique()"
   ]
  },
  {
   "cell_type": "code",
   "execution_count": null,
   "id": "ceef7f14-4e99-408a-9ee6-d2caf3427f5a",
   "metadata": {},
   "outputs": [],
   "source": []
  },
  {
   "cell_type": "code",
   "execution_count": 229,
   "id": "44153d7a-9f80-4305-aa21-320e275e725f",
   "metadata": {},
   "outputs": [
    {
     "data": {
      "text/plain": [
       "Index(['price', 'rating', 'screen_size', 'brand', 'tv_type', 'resolution',\n",
       "       'hd', 'is_smart', 'resolution_type', 'has_wifi', 'has_ethernet',\n",
       "       'num_speakers', 'speaker_output', 'processor_core', 'processor_ram',\n",
       "       'processor_inbuilt_storage', 'is_ultra_slim', 'viewing_angle',\n",
       "       'num_hdmi_ports', 'num_usb_ports', 'x_resolution', 'y_resolution'],\n",
       "      dtype='object')"
      ]
     },
     "execution_count": 229,
     "metadata": {},
     "output_type": "execute_result"
    }
   ],
   "source": [
    "data.columns"
   ]
  },
  {
   "cell_type": "markdown",
   "id": "96e4ffba-480b-4792-b43f-94487ea5e2d0",
   "metadata": {},
   "source": [
    "# processor ram"
   ]
  },
  {
   "cell_type": "code",
   "execution_count": 230,
   "id": "b31f827b-3c90-4429-88ce-563597aaa517",
   "metadata": {},
   "outputs": [
    {
     "data": {
      "text/plain": [
       "array([1.5 , 1.  ,  nan, 2.  , 3.  , 4.  , 0.5 , 2.5 , 1.75, 6.  , 8.  ])"
      ]
     },
     "execution_count": 230,
     "metadata": {},
     "output_type": "execute_result"
    }
   ],
   "source": [
    "data['processor_ram'].unique()"
   ]
  },
  {
   "cell_type": "code",
   "execution_count": null,
   "id": "519b3916-c26e-462a-9008-225675d1cbbc",
   "metadata": {},
   "outputs": [],
   "source": []
  },
  {
   "cell_type": "markdown",
   "id": "beda1ced-2317-4b22-98d9-49f69eb06253",
   "metadata": {},
   "source": [
    "# num_hdmi_ports"
   ]
  },
  {
   "cell_type": "code",
   "execution_count": 231,
   "id": "000ba53d-de5f-40bd-ba2b-613a39e5f857",
   "metadata": {},
   "outputs": [
    {
     "data": {
      "text/plain": [
       "array([ 2.,  3.,  1., nan,  4.,  6.])"
      ]
     },
     "execution_count": 231,
     "metadata": {},
     "output_type": "execute_result"
    }
   ],
   "source": [
    "data['num_hdmi_ports'].unique()"
   ]
  },
  {
   "cell_type": "code",
   "execution_count": null,
   "id": "1b78e815-7ca1-40a7-b923-bada555018cd",
   "metadata": {},
   "outputs": [],
   "source": []
  },
  {
   "cell_type": "markdown",
   "id": "ceb4d1ba-d2a4-4f53-a8b7-d44a623f4908",
   "metadata": {},
   "source": [
    "# num_usb_ports"
   ]
  },
  {
   "cell_type": "code",
   "execution_count": 232,
   "id": "f4e1fa86-b43a-448f-aba6-a659723e1d3c",
   "metadata": {},
   "outputs": [
    {
     "data": {
      "text/plain": [
       "array([ 2.,  1., nan,  3.,  4.])"
      ]
     },
     "execution_count": 232,
     "metadata": {},
     "output_type": "execute_result"
    }
   ],
   "source": [
    "data['num_usb_ports'].unique()"
   ]
  },
  {
   "cell_type": "code",
   "execution_count": 235,
   "id": "eefc6b39-824d-44fc-a817-b1d2acff06a5",
   "metadata": {},
   "outputs": [
    {
     "name": "stdout",
     "output_type": "stream",
     "text": [
      "price\n",
      "rating\n",
      "screen_size\n",
      "brand\n",
      "tv_type\n",
      "resolution\n",
      "hd\n",
      "is_smart\n",
      "resolution_type\n",
      "has_wifi\n",
      "has_ethernet\n",
      "num_speakers\n",
      "speaker_output\n",
      "processor_core\n",
      "processor_ram\n",
      "processor_inbuilt_storage\n",
      "is_ultra_slim\n",
      "viewing_angle\n",
      "num_hdmi_ports\n",
      "num_usb_ports\n",
      "x_resolution\n",
      "y_resolution\n"
     ]
    }
   ],
   "source": [
    "for i in data.columns:\n",
    "    print(i)"
   ]
  },
  {
   "cell_type": "code",
   "execution_count": 236,
   "id": "26c80366-5f44-4395-ad8c-5c0099a73b1b",
   "metadata": {},
   "outputs": [],
   "source": [
    "data  = (data[['brand','tv_type', 'resolution', 'resolution_type', 'x_resolution','y_resolution', 'screen_size', 'processor_core', 'processor_ram', 'processor_inbuilt_storage',\n",
    "      'num_speakers', 'speaker_output', 'hd', 'has_wifi', 'has_ethernet', 'is_smart', 'is_ultra_slim', 'viewing_angle', 'num_hdmi_ports', 'num_usb_ports', 'rating',\n",
    "      'price']])"
   ]
  },
  {
   "cell_type": "code",
   "execution_count": null,
   "id": "1d73e7ea-8fb1-49e8-b9b4-29e46ca6a751",
   "metadata": {},
   "outputs": [],
   "source": []
  },
  {
   "cell_type": "code",
   "execution_count": 237,
   "id": "ef9d1f32-7ebe-4650-a02d-66a0e97b8a5d",
   "metadata": {},
   "outputs": [
    {
     "data": {
      "text/html": [
       "<div>\n",
       "<style scoped>\n",
       "    .dataframe tbody tr th:only-of-type {\n",
       "        vertical-align: middle;\n",
       "    }\n",
       "\n",
       "    .dataframe tbody tr th {\n",
       "        vertical-align: top;\n",
       "    }\n",
       "\n",
       "    .dataframe thead th {\n",
       "        text-align: right;\n",
       "    }\n",
       "</style>\n",
       "<table border=\"1\" class=\"dataframe\">\n",
       "  <thead>\n",
       "    <tr style=\"text-align: right;\">\n",
       "      <th></th>\n",
       "      <th>brand</th>\n",
       "      <th>tv_type</th>\n",
       "      <th>resolution</th>\n",
       "      <th>resolution_type</th>\n",
       "      <th>x_resolution</th>\n",
       "      <th>y_resolution</th>\n",
       "      <th>screen_size</th>\n",
       "      <th>processor_core</th>\n",
       "      <th>processor_ram</th>\n",
       "      <th>processor_inbuilt_storage</th>\n",
       "      <th>...</th>\n",
       "      <th>hd</th>\n",
       "      <th>has_wifi</th>\n",
       "      <th>has_ethernet</th>\n",
       "      <th>is_smart</th>\n",
       "      <th>is_ultra_slim</th>\n",
       "      <th>viewing_angle</th>\n",
       "      <th>num_hdmi_ports</th>\n",
       "      <th>num_usb_ports</th>\n",
       "      <th>rating</th>\n",
       "      <th>price</th>\n",
       "    </tr>\n",
       "  </thead>\n",
       "  <tbody>\n",
       "    <tr>\n",
       "      <th>0</th>\n",
       "      <td>acer</td>\n",
       "      <td>qled</td>\n",
       "      <td>NaN</td>\n",
       "      <td>missing</td>\n",
       "      <td>1366</td>\n",
       "      <td>768</td>\n",
       "      <td>32.0</td>\n",
       "      <td>4.0</td>\n",
       "      <td>1.5</td>\n",
       "      <td>16.0</td>\n",
       "      <td>...</td>\n",
       "      <td>HD</td>\n",
       "      <td>1.0</td>\n",
       "      <td>1.0</td>\n",
       "      <td>1.0</td>\n",
       "      <td>1.0</td>\n",
       "      <td>178.0</td>\n",
       "      <td>2.0</td>\n",
       "      <td>2.0</td>\n",
       "      <td>53.0</td>\n",
       "      <td>14999.0</td>\n",
       "    </tr>\n",
       "    <tr>\n",
       "      <th>1</th>\n",
       "      <td>xiaomi</td>\n",
       "      <td>led</td>\n",
       "      <td>Full HD</td>\n",
       "      <td>missing</td>\n",
       "      <td>1920</td>\n",
       "      <td>1080</td>\n",
       "      <td>43.0</td>\n",
       "      <td>NaN</td>\n",
       "      <td>1.0</td>\n",
       "      <td>8.0</td>\n",
       "      <td>...</td>\n",
       "      <td>Full HD</td>\n",
       "      <td>1.0</td>\n",
       "      <td>1.0</td>\n",
       "      <td>1.0</td>\n",
       "      <td>0.0</td>\n",
       "      <td>178.0</td>\n",
       "      <td>2.0</td>\n",
       "      <td>2.0</td>\n",
       "      <td>53.0</td>\n",
       "      <td>9999.0</td>\n",
       "    </tr>\n",
       "    <tr>\n",
       "      <th>2</th>\n",
       "      <td>lg</td>\n",
       "      <td>led</td>\n",
       "      <td>4K Resolution</td>\n",
       "      <td>4K Resolution</td>\n",
       "      <td>3840</td>\n",
       "      <td>2160</td>\n",
       "      <td>43.0</td>\n",
       "      <td>NaN</td>\n",
       "      <td>NaN</td>\n",
       "      <td>NaN</td>\n",
       "      <td>...</td>\n",
       "      <td>Ultra HD</td>\n",
       "      <td>1.0</td>\n",
       "      <td>1.0</td>\n",
       "      <td>1.0</td>\n",
       "      <td>NaN</td>\n",
       "      <td>NaN</td>\n",
       "      <td>3.0</td>\n",
       "      <td>2.0</td>\n",
       "      <td>65.0</td>\n",
       "      <td>31990.0</td>\n",
       "    </tr>\n",
       "    <tr>\n",
       "      <th>3</th>\n",
       "      <td>samsung</td>\n",
       "      <td>led</td>\n",
       "      <td>4K Resolution</td>\n",
       "      <td>4K Resolution</td>\n",
       "      <td>3840</td>\n",
       "      <td>2160</td>\n",
       "      <td>43.0</td>\n",
       "      <td>NaN</td>\n",
       "      <td>NaN</td>\n",
       "      <td>NaN</td>\n",
       "      <td>...</td>\n",
       "      <td>Ultra HD</td>\n",
       "      <td>1.0</td>\n",
       "      <td>1.0</td>\n",
       "      <td>1.0</td>\n",
       "      <td>0.0</td>\n",
       "      <td>178.0</td>\n",
       "      <td>2.0</td>\n",
       "      <td>1.0</td>\n",
       "      <td>63.0</td>\n",
       "      <td>38900.0</td>\n",
       "    </tr>\n",
       "    <tr>\n",
       "      <th>4</th>\n",
       "      <td>lg</td>\n",
       "      <td>led</td>\n",
       "      <td>NaN</td>\n",
       "      <td>missing</td>\n",
       "      <td>1366</td>\n",
       "      <td>768</td>\n",
       "      <td>32.0</td>\n",
       "      <td>NaN</td>\n",
       "      <td>NaN</td>\n",
       "      <td>NaN</td>\n",
       "      <td>...</td>\n",
       "      <td>HD</td>\n",
       "      <td>1.0</td>\n",
       "      <td>1.0</td>\n",
       "      <td>1.0</td>\n",
       "      <td>0.0</td>\n",
       "      <td>178.0</td>\n",
       "      <td>3.0</td>\n",
       "      <td>2.0</td>\n",
       "      <td>48.0</td>\n",
       "      <td>16249.0</td>\n",
       "    </tr>\n",
       "  </tbody>\n",
       "</table>\n",
       "<p>5 rows × 22 columns</p>\n",
       "</div>"
      ],
      "text/plain": [
       "     brand tv_type     resolution resolution_type x_resolution y_resolution  \\\n",
       "0     acer    qled            NaN         missing         1366          768   \n",
       "1   xiaomi     led        Full HD         missing         1920         1080   \n",
       "2       lg     led  4K Resolution   4K Resolution         3840         2160   \n",
       "3  samsung     led  4K Resolution   4K Resolution         3840         2160   \n",
       "4       lg     led            NaN         missing         1366          768   \n",
       "\n",
       "   screen_size  processor_core  processor_ram  processor_inbuilt_storage  ...  \\\n",
       "0         32.0             4.0            1.5                       16.0  ...   \n",
       "1         43.0             NaN            1.0                        8.0  ...   \n",
       "2         43.0             NaN            NaN                        NaN  ...   \n",
       "3         43.0             NaN            NaN                        NaN  ...   \n",
       "4         32.0             NaN            NaN                        NaN  ...   \n",
       "\n",
       "         hd  has_wifi has_ethernet  is_smart  is_ultra_slim  viewing_angle  \\\n",
       "0        HD       1.0          1.0       1.0            1.0          178.0   \n",
       "1   Full HD       1.0          1.0       1.0            0.0          178.0   \n",
       "2  Ultra HD       1.0          1.0       1.0            NaN            NaN   \n",
       "3  Ultra HD       1.0          1.0       1.0            0.0          178.0   \n",
       "4        HD       1.0          1.0       1.0            0.0          178.0   \n",
       "\n",
       "   num_hdmi_ports  num_usb_ports  rating    price  \n",
       "0             2.0            2.0    53.0  14999.0  \n",
       "1             2.0            2.0    53.0   9999.0  \n",
       "2             3.0            2.0    65.0  31990.0  \n",
       "3             2.0            1.0    63.0  38900.0  \n",
       "4             3.0            2.0    48.0  16249.0  \n",
       "\n",
       "[5 rows x 22 columns]"
      ]
     },
     "execution_count": 237,
     "metadata": {},
     "output_type": "execute_result"
    }
   ],
   "source": [
    "data.head()"
   ]
  },
  {
   "cell_type": "code",
   "execution_count": null,
   "id": "5693ddbf-377a-4d2a-a739-ca7ee55ce900",
   "metadata": {},
   "outputs": [],
   "source": []
  },
  {
   "cell_type": "markdown",
   "id": "63e8dd50-0ef7-49b1-bfb9-f4e5fb637391",
   "metadata": {},
   "source": [
    "# importing the data"
   ]
  },
  {
   "cell_type": "code",
   "execution_count": 238,
   "id": "68a95071-594c-4819-adec-b46e54a28852",
   "metadata": {},
   "outputs": [],
   "source": [
    "data.to_csv('tv_cleaned_v2.csv')"
   ]
  },
  {
   "cell_type": "code",
   "execution_count": null,
   "id": "d442a43a-d86c-46d4-afde-0de86c58c5ba",
   "metadata": {},
   "outputs": [],
   "source": []
  }
 ],
 "metadata": {
  "kernelspec": {
   "display_name": "Python 3 (ipykernel)",
   "language": "python",
   "name": "python3"
  },
  "language_info": {
   "codemirror_mode": {
    "name": "ipython",
    "version": 3
   },
   "file_extension": ".py",
   "mimetype": "text/x-python",
   "name": "python",
   "nbconvert_exporter": "python",
   "pygments_lexer": "ipython3",
   "version": "3.9.13"
  }
 },
 "nbformat": 4,
 "nbformat_minor": 5
}
